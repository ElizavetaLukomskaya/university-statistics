{
 "cells": [
  {
   "cell_type": "code",
   "execution_count": 41,
   "id": "9050873c-cc3f-438b-a370-e0e2838b28d7",
   "metadata": {},
   "outputs": [],
   "source": [
    "import numpy as np\n",
    "import pandas as pd\n",
    "import matplotlib.pyplot as plt\n",
    "import seaborn as sns\n",
    "from sklearn.cluster import KMeans"
   ]
  },
  {
   "cell_type": "code",
   "execution_count": 61,
   "id": "5f9a925c-850a-4d55-813f-b8da624e9fdf",
   "metadata": {},
   "outputs": [
    {
     "data": {
      "text/plain": [
       "(41188, 21)"
      ]
     },
     "execution_count": 61,
     "metadata": {},
     "output_type": "execute_result"
    }
   ],
   "source": [
    "data = pd.read_csv('../lab3/data.csv')\n",
    "data.shape"
   ]
  },
  {
   "cell_type": "code",
   "execution_count": 62,
   "id": "0cc5f52b-c87e-4387-9ea6-5001795b835a",
   "metadata": {},
   "outputs": [
    {
     "name": "stdout",
     "output_type": "stream",
     "text": [
      "<class 'pandas.core.frame.DataFrame'>\n",
      "RangeIndex: 41188 entries, 0 to 41187\n",
      "Data columns (total 21 columns):\n",
      " #   Column          Non-Null Count  Dtype  \n",
      "---  ------          --------------  -----  \n",
      " 0   age             41188 non-null  int64  \n",
      " 1   job             41188 non-null  object \n",
      " 2   marital         41188 non-null  object \n",
      " 3   education       41188 non-null  object \n",
      " 4   default         41188 non-null  object \n",
      " 5   housing         41188 non-null  object \n",
      " 6   loan            41188 non-null  object \n",
      " 7   contact         41188 non-null  object \n",
      " 8   month           41188 non-null  object \n",
      " 9   day_of_week     41188 non-null  object \n",
      " 10  duration        41188 non-null  int64  \n",
      " 11  campaign        41188 non-null  int64  \n",
      " 12  pdays           41188 non-null  int64  \n",
      " 13  previous        41188 non-null  int64  \n",
      " 14  poutcome        41188 non-null  object \n",
      " 15  emp_var_rate    41188 non-null  float64\n",
      " 16  cons_price_idx  41188 non-null  float64\n",
      " 17  cons_conf_idx   41188 non-null  float64\n",
      " 18  euribor3m       41188 non-null  float64\n",
      " 19  nr_employed     41188 non-null  float64\n",
      " 20  y               41188 non-null  int64  \n",
      "dtypes: float64(5), int64(6), object(10)\n",
      "memory usage: 6.6+ MB\n"
     ]
    }
   ],
   "source": [
    "data.info()"
   ]
  },
  {
   "cell_type": "code",
   "execution_count": 63,
   "id": "51481e06-9713-41f3-a75d-a326d9eb8d77",
   "metadata": {},
   "outputs": [],
   "source": [
    "COLUMNS_FOR_FACTORISATION = ['job', 'marital', 'education', 'default', 'housing', 'loan','contact', 'month', 'day_of_week', 'poutcome']\n",
    "factorization_table = {}\n",
    "for column in COLUMNS_FOR_FACTORISATION:\n",
    "    data[column], table = pd.factorize(data[column])\n",
    "    factorization_table[column] = pd.DataFrame(columns=[column], data=table)"
   ]
  },
  {
   "cell_type": "code",
   "execution_count": 64,
   "id": "21991282-2615-481b-ad76-67b4eee8c425",
   "metadata": {},
   "outputs": [
    {
     "data": {
      "text/plain": [
       "Index(['age', 'job', 'marital', 'education', 'default', 'housing', 'loan',\n",
       "       'contact', 'month', 'day_of_week', 'duration', 'campaign', 'pdays',\n",
       "       'previous', 'poutcome', 'emp_var_rate', 'cons_price_idx',\n",
       "       'cons_conf_idx', 'euribor3m', 'nr_employed', 'y'],\n",
       "      dtype='object')"
      ]
     },
     "execution_count": 64,
     "metadata": {},
     "output_type": "execute_result"
    }
   ],
   "source": [
    "data.columns"
   ]
  },
  {
   "cell_type": "markdown",
   "id": "5fdc873d-a3c9-4d55-ab09-6c89f50a45ed",
   "metadata": {},
   "source": [
    "# K-means кластеризация"
   ]
  },
  {
   "cell_type": "code",
   "execution_count": 46,
   "id": "c4c58f61-dd82-4774-be97-99b153303c34",
   "metadata": {},
   "outputs": [
    {
     "data": {
      "text/plain": [
       "Text(0, 0.5, 'Внутри-кластерная сумма расстояний')"
      ]
     },
     "execution_count": 46,
     "metadata": {},
     "output_type": "execute_result"
    },
    {
     "data": {
      "image/png": "[encoded data removed]",
      "text/plain": [
       "<Figure size 432x288 with 1 Axes>"
      ]
     },
     "metadata": {},
     "output_type": "display_data"
    }
   ],
   "source": [
    "inertia = []\n",
    "for i in range(1, 11):\n",
    "    k_means = KMeans(n_clusters=i, init= 'k-means++')\n",
    "    k_means.fit(data.drop(\"y\", axis=1))\n",
    "    \n",
    "    inertia.append(k_means.inertia_)\n",
    "\n",
    "sns.set_style('darkgrid')\n",
    "sns.scatterplot(x = [x for x in range(1, 11)], y = inertia)\n",
    "plt.title('График зависимости')\n",
    "plt.xlabel('Количество кластеров')\n",
    "plt.ylabel('Внутри-кластерная сумма расстояний')"
   ]
  },
  {
   "cell_type": "code",
   "execution_count": 47,
   "id": "62cc158c-9af2-413a-bb26-71c5eba71434",
   "metadata": {},
   "outputs": [
    {
     "data": {
      "text/html": [
       "<div>\n",
       "<style scoped>\n",
       "    .dataframe tbody tr th:only-of-type {\n",
       "        vertical-align: middle;\n",
       "    }\n",
       "\n",
       "    .dataframe tbody tr th {\n",
       "        vertical-align: top;\n",
       "    }\n",
       "\n",
       "    .dataframe thead th {\n",
       "        text-align: right;\n",
       "    }\n",
       "</style>\n",
       "<table border=\"1\" class=\"dataframe\">\n",
       "  <thead>\n",
       "    <tr style=\"text-align: right;\">\n",
       "      <th></th>\n",
       "      <th>age</th>\n",
       "      <th>job</th>\n",
       "      <th>marital</th>\n",
       "      <th>education</th>\n",
       "      <th>default</th>\n",
       "      <th>housing</th>\n",
       "      <th>loan</th>\n",
       "      <th>contact</th>\n",
       "      <th>month</th>\n",
       "      <th>day_of_week</th>\n",
       "      <th>...</th>\n",
       "      <th>campaign</th>\n",
       "      <th>pdays</th>\n",
       "      <th>previous</th>\n",
       "      <th>poutcome</th>\n",
       "      <th>emp_var_rate</th>\n",
       "      <th>cons_price_idx</th>\n",
       "      <th>cons_conf_idx</th>\n",
       "      <th>euribor3m</th>\n",
       "      <th>nr_employed</th>\n",
       "      <th>Amount</th>\n",
       "    </tr>\n",
       "  </thead>\n",
       "  <tbody>\n",
       "    <tr>\n",
       "      <th>0</th>\n",
       "      <td>39.930622</td>\n",
       "      <td>3.222487</td>\n",
       "      <td>0.506598</td>\n",
       "      <td>2.897837</td>\n",
       "      <td>0.784077</td>\n",
       "      <td>0.500340</td>\n",
       "      <td>0.202932</td>\n",
       "      <td>0.382227</td>\n",
       "      <td>3.181710</td>\n",
       "      <td>1.994150</td>\n",
       "      <td>...</td>\n",
       "      <td>2.681608</td>\n",
       "      <td>999.000000</td>\n",
       "      <td>0.117297</td>\n",
       "      <td>0.210924</td>\n",
       "      <td>0.194477</td>\n",
       "      <td>93.584236</td>\n",
       "      <td>-40.537223</td>\n",
       "      <td>3.759329</td>\n",
       "      <td>5174.127166</td>\n",
       "      <td>29406</td>\n",
       "    </tr>\n",
       "    <tr>\n",
       "      <th>1</th>\n",
       "      <td>41.873502</td>\n",
       "      <td>4.399467</td>\n",
       "      <td>0.573236</td>\n",
       "      <td>2.640479</td>\n",
       "      <td>0.960053</td>\n",
       "      <td>0.472703</td>\n",
       "      <td>0.198402</td>\n",
       "      <td>0.071904</td>\n",
       "      <td>3.835553</td>\n",
       "      <td>1.979361</td>\n",
       "      <td>...</td>\n",
       "      <td>1.821571</td>\n",
       "      <td>5.996671</td>\n",
       "      <td>1.663782</td>\n",
       "      <td>1.093875</td>\n",
       "      <td>-2.096538</td>\n",
       "      <td>93.342629</td>\n",
       "      <td>-38.338282</td>\n",
       "      <td>0.986428</td>\n",
       "      <td>5029.293076</td>\n",
       "      <td>1502</td>\n",
       "    </tr>\n",
       "    <tr>\n",
       "      <th>2</th>\n",
       "      <td>39.743363</td>\n",
       "      <td>3.211125</td>\n",
       "      <td>0.512642</td>\n",
       "      <td>2.950063</td>\n",
       "      <td>0.783186</td>\n",
       "      <td>0.511378</td>\n",
       "      <td>0.208597</td>\n",
       "      <td>0.345133</td>\n",
       "      <td>3.334387</td>\n",
       "      <td>1.942478</td>\n",
       "      <td>...</td>\n",
       "      <td>2.578382</td>\n",
       "      <td>990.857143</td>\n",
       "      <td>0.106195</td>\n",
       "      <td>0.179520</td>\n",
       "      <td>0.198293</td>\n",
       "      <td>93.607946</td>\n",
       "      <td>-40.821997</td>\n",
       "      <td>3.743559</td>\n",
       "      <td>5173.126233</td>\n",
       "      <td>1582</td>\n",
       "    </tr>\n",
       "    <tr>\n",
       "      <th>3</th>\n",
       "      <td>40.071609</td>\n",
       "      <td>3.202989</td>\n",
       "      <td>0.513103</td>\n",
       "      <td>2.878621</td>\n",
       "      <td>0.788276</td>\n",
       "      <td>0.502414</td>\n",
       "      <td>0.187701</td>\n",
       "      <td>0.362184</td>\n",
       "      <td>3.438046</td>\n",
       "      <td>2.000345</td>\n",
       "      <td>...</td>\n",
       "      <td>2.309080</td>\n",
       "      <td>999.000000</td>\n",
       "      <td>0.115862</td>\n",
       "      <td>0.200920</td>\n",
       "      <td>0.056276</td>\n",
       "      <td>93.581057</td>\n",
       "      <td>-40.701161</td>\n",
       "      <td>3.587412</td>\n",
       "      <td>5165.742069</td>\n",
       "      <td>8698</td>\n",
       "    </tr>\n",
       "  </tbody>\n",
       "</table>\n",
       "<p>4 rows × 21 columns</p>\n",
       "</div>"
      ],
      "text/plain": [
       "         age       job   marital  education   default   housing      loan  \\\n",
       "0  39.930622  3.222487  0.506598   2.897837  0.784077  0.500340  0.202932   \n",
       "1  41.873502  4.399467  0.573236   2.640479  0.960053  0.472703  0.198402   \n",
       "2  39.743363  3.211125  0.512642   2.950063  0.783186  0.511378  0.208597   \n",
       "3  40.071609  3.202989  0.513103   2.878621  0.788276  0.502414  0.187701   \n",
       "\n",
       "    contact     month  day_of_week  ...  campaign       pdays  previous  \\\n",
       "0  0.382227  3.181710     1.994150  ...  2.681608  999.000000  0.117297   \n",
       "1  0.071904  3.835553     1.979361  ...  1.821571    5.996671  1.663782   \n",
       "2  0.345133  3.334387     1.942478  ...  2.578382  990.857143  0.106195   \n",
       "3  0.362184  3.438046     2.000345  ...  2.309080  999.000000  0.115862   \n",
       "\n",
       "   poutcome  emp_var_rate  cons_price_idx  cons_conf_idx  euribor3m  \\\n",
       "0  0.210924      0.194477       93.584236     -40.537223   3.759329   \n",
       "1  1.093875     -2.096538       93.342629     -38.338282   0.986428   \n",
       "2  0.179520      0.198293       93.607946     -40.821997   3.743559   \n",
       "3  0.200920      0.056276       93.581057     -40.701161   3.587412   \n",
       "\n",
       "   nr_employed  Amount  \n",
       "0  5174.127166   29406  \n",
       "1  5029.293076    1502  \n",
       "2  5173.126233    1582  \n",
       "3  5165.742069    8698  \n",
       "\n",
       "[4 rows x 21 columns]"
      ]
     },
     "execution_count": 47,
     "metadata": {},
     "output_type": "execute_result"
    }
   ],
   "source": [
    "CLUSTERS = 4\n",
    "model = KMeans(n_clusters=CLUSTERS)\n",
    "model.fit(data.drop(\"y\", axis=1))\n",
    "clusters = pd.DataFrame( columns=data.columns.drop(\"y\"), data=model.cluster_centers_)\n",
    "clusters[\"Amount\"] = np.unique(model.labels_, return_counts=True)[1]\n",
    "\n",
    "clusters"
   ]
  },
  {
   "cell_type": "code",
   "execution_count": 49,
   "id": "c652ceda-4a9e-4936-bc9e-5144a9ba808f",
   "metadata": {},
   "outputs": [
    {
     "data": {
      "text/html": [
       "<div>\n",
       "<style scoped>\n",
       "    .dataframe tbody tr th:only-of-type {\n",
       "        vertical-align: middle;\n",
       "    }\n",
       "\n",
       "    .dataframe tbody tr th {\n",
       "        vertical-align: top;\n",
       "    }\n",
       "\n",
       "    .dataframe thead th {\n",
       "        text-align: right;\n",
       "    }\n",
       "</style>\n",
       "<table border=\"1\" class=\"dataframe\">\n",
       "  <thead>\n",
       "    <tr style=\"text-align: right;\">\n",
       "      <th></th>\n",
       "      <th>age</th>\n",
       "      <th>job</th>\n",
       "      <th>marital</th>\n",
       "      <th>education</th>\n",
       "      <th>default</th>\n",
       "      <th>housing</th>\n",
       "      <th>loan</th>\n",
       "      <th>contact</th>\n",
       "      <th>month</th>\n",
       "      <th>day_of_week</th>\n",
       "      <th>...</th>\n",
       "      <th>campaign</th>\n",
       "      <th>pdays</th>\n",
       "      <th>previous</th>\n",
       "      <th>poutcome</th>\n",
       "      <th>emp_var_rate</th>\n",
       "      <th>cons_price_idx</th>\n",
       "      <th>cons_conf_idx</th>\n",
       "      <th>euribor3m</th>\n",
       "      <th>nr_employed</th>\n",
       "      <th>Amount</th>\n",
       "    </tr>\n",
       "  </thead>\n",
       "  <tbody>\n",
       "    <tr>\n",
       "      <th>0</th>\n",
       "      <td>40.108119</td>\n",
       "      <td>3.296454</td>\n",
       "      <td>0.514241</td>\n",
       "      <td>2.864755</td>\n",
       "      <td>0.799264</td>\n",
       "      <td>0.510560</td>\n",
       "      <td>0.196280</td>\n",
       "      <td>0.326293</td>\n",
       "      <td>3.426855</td>\n",
       "      <td>1.979268</td>\n",
       "      <td>...</td>\n",
       "      <td>2.405542</td>\n",
       "      <td>940.162372</td>\n",
       "      <td>0.195699</td>\n",
       "      <td>0.235419</td>\n",
       "      <td>0.025867</td>\n",
       "      <td>93.585451</td>\n",
       "      <td>-40.763902</td>\n",
       "      <td>3.534598</td>\n",
       "      <td>5162.654524</td>\n",
       "      <td>5151</td>\n",
       "    </tr>\n",
       "    <tr>\n",
       "      <th>1</th>\n",
       "      <td>40.012019</td>\n",
       "      <td>3.255753</td>\n",
       "      <td>0.510117</td>\n",
       "      <td>2.889500</td>\n",
       "      <td>0.790213</td>\n",
       "      <td>0.498709</td>\n",
       "      <td>0.200266</td>\n",
       "      <td>0.370833</td>\n",
       "      <td>3.242457</td>\n",
       "      <td>1.994893</td>\n",
       "      <td>...</td>\n",
       "      <td>2.590807</td>\n",
       "      <td>965.671885</td>\n",
       "      <td>0.169706</td>\n",
       "      <td>0.240431</td>\n",
       "      <td>0.089910</td>\n",
       "      <td>93.574262</td>\n",
       "      <td>-40.465168</td>\n",
       "      <td>3.633710</td>\n",
       "      <td>5167.663561</td>\n",
       "      <td>36037</td>\n",
       "    </tr>\n",
       "  </tbody>\n",
       "</table>\n",
       "<p>2 rows × 21 columns</p>\n",
       "</div>"
      ],
      "text/plain": [
       "         age       job   marital  education   default   housing      loan  \\\n",
       "0  40.108119  3.296454  0.514241   2.864755  0.799264  0.510560  0.196280   \n",
       "1  40.012019  3.255753  0.510117   2.889500  0.790213  0.498709  0.200266   \n",
       "\n",
       "    contact     month  day_of_week  ...  campaign       pdays  previous  \\\n",
       "0  0.326293  3.426855     1.979268  ...  2.405542  940.162372  0.195699   \n",
       "1  0.370833  3.242457     1.994893  ...  2.590807  965.671885  0.169706   \n",
       "\n",
       "   poutcome  emp_var_rate  cons_price_idx  cons_conf_idx  euribor3m  \\\n",
       "0  0.235419      0.025867       93.585451     -40.763902   3.534598   \n",
       "1  0.240431      0.089910       93.574262     -40.465168   3.633710   \n",
       "\n",
       "   nr_employed  Amount  \n",
       "0  5162.654524    5151  \n",
       "1  5167.663561   36037  \n",
       "\n",
       "[2 rows x 21 columns]"
      ]
     },
     "execution_count": 49,
     "metadata": {},
     "output_type": "execute_result"
    }
   ],
   "source": [
    "CLUSTERS = 2\n",
    "model = KMeans(n_clusters=CLUSTERS)\n",
    "model.fit(data.drop(\"y\", axis=1))\n",
    "clusters = pd.DataFrame( columns=data.columns.drop(\"y\"), data=model.cluster_centers_)\n",
    "clusters[\"Amount\"] = np.unique(model.labels_, return_counts=True)[1]\n",
    "\n",
    "clusters"
   ]
  },
  {
   "cell_type": "code",
   "execution_count": 50,
   "id": "871f278c-d8fe-4086-a8f9-3fb7585132cf",
   "metadata": {},
   "outputs": [
    {
     "data": {
      "text/plain": [
       "(4640, 36548)"
      ]
     },
     "execution_count": 50,
     "metadata": {},
     "output_type": "execute_result"
    }
   ],
   "source": [
    "len(data[data['y'] == 1]), len(data[data['y'] == 0])"
   ]
  }
 ],
 "metadata": {
  "kernelspec": {
   "display_name": "Python 3 (ipykernel)",
   "language": "python",
   "name": "python3"
  },
  "language_info": {
   "codemirror_mode": {
    "name": "ipython",
    "version": 3
   },
   "file_extension": ".py",
   "mimetype": "text/x-python",
   "name": "python",
   "nbconvert_exporter": "python",
   "pygments_lexer": "ipython3",
   "version": "3.9.12"
  }
 },
 "nbformat": 4,
 "nbformat_minor": 5
}
