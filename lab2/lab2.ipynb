{
 "cells": [
  {
   "cell_type": "code",
   "execution_count": 74,
   "id": "580a298c-4034-4faf-bbf6-ef53b24b5397",
   "metadata": {},
   "outputs": [],
   "source": [
    "import pandas as pd\n",
    "import numpy as np\n",
    "from sklearn import preprocessing\n",
    "import matplotlib.pyplot as plt \n",
    "from sklearn.linear_model import LogisticRegression\n",
    "from sklearn.model_selection import train_test_split\n",
    "import seaborn as sns\n",
    "from imblearn.over_sampling import SMOTE"
   ]
  },
  {
   "cell_type": "code",
   "execution_count": 55,
   "id": "971070dd-352a-4e66-9396-4fa10e1e0e7d",
   "metadata": {},
   "outputs": [],
   "source": [
    "plt.rc(\"font\", size=14)\n",
    "sns.set(style=\"white\")\n",
    "sns.set(style=\"whitegrid\", color_codes=True)"
   ]
  },
  {
   "cell_type": "markdown",
   "id": "2c2b5e60-2527-4653-b9ec-653f3784b7ad",
   "metadata": {
    "tags": []
   },
   "source": [
    "# Описание данных\n",
    "\n",
    "#### В анализ взяты данные по прямым маркетинговым кампаниям (телефонный обзвон) португальского банковского учреждения\n",
    "\n",
    "#### ***Целевая переменная:*** подписался ли клиент на срочный вклад (двоично: “1” означает “Да”, “0” означает “Нет”)"
   ]
  },
  {
   "cell_type": "code",
   "execution_count": 83,
   "id": "d364af9c-fbb3-45a2-b59d-09a60a483462",
   "metadata": {},
   "outputs": [
    {
     "data": {
      "text/plain": [
       "(41188, 21)"
      ]
     },
     "execution_count": 98,
     "metadata": {},
     "output_type": "execute_result"
    }
   ],
   "source": [
    "data = pd.read_csv('../lab2/data.csv')\n",
    "data.shape"
   ]
  },
  {
   "cell_type": "code",
   "execution_count": 84,
   "id": "0ae14b59-1ea8-40b4-9bda-d4d7c311caf4",
   "metadata": {},
   "outputs": [
    {
     "data": {
      "text/html": [
       "<div>\n",
       "<style scoped>\n",
       "    .dataframe tbody tr th:only-of-type {\n",
       "        vertical-align: middle;\n",
       "    }\n",
       "\n",
       "    .dataframe tbody tr th {\n",
       "        vertical-align: top;\n",
       "    }\n",
       "\n",
       "    .dataframe thead th {\n",
       "        text-align: right;\n",
       "    }\n",
       "</style>\n",
       "<table border=\"1\" class=\"dataframe\">\n",
       "  <thead>\n",
       "    <tr style=\"text-align: right;\">\n",
       "      <th></th>\n",
       "      <th>age</th>\n",
       "      <th>job</th>\n",
       "      <th>marital</th>\n",
       "      <th>education</th>\n",
       "      <th>default</th>\n",
       "      <th>housing</th>\n",
       "      <th>loan</th>\n",
       "      <th>contact</th>\n",
       "      <th>month</th>\n",
       "      <th>day_of_week</th>\n",
       "      <th>...</th>\n",
       "      <th>campaign</th>\n",
       "      <th>pdays</th>\n",
       "      <th>previous</th>\n",
       "      <th>poutcome</th>\n",
       "      <th>emp_var_rate</th>\n",
       "      <th>cons_price_idx</th>\n",
       "      <th>cons_conf_idx</th>\n",
       "      <th>euribor3m</th>\n",
       "      <th>nr_employed</th>\n",
       "      <th>y</th>\n",
       "    </tr>\n",
       "  </thead>\n",
       "  <tbody>\n",
       "    <tr>\n",
       "      <th>0</th>\n",
       "      <td>44</td>\n",
       "      <td>blue-collar</td>\n",
       "      <td>married</td>\n",
       "      <td>basic.4y</td>\n",
       "      <td>unknown</td>\n",
       "      <td>yes</td>\n",
       "      <td>no</td>\n",
       "      <td>cellular</td>\n",
       "      <td>aug</td>\n",
       "      <td>thu</td>\n",
       "      <td>...</td>\n",
       "      <td>1</td>\n",
       "      <td>999</td>\n",
       "      <td>0</td>\n",
       "      <td>nonexistent</td>\n",
       "      <td>1.4</td>\n",
       "      <td>93.444</td>\n",
       "      <td>-36.1</td>\n",
       "      <td>4.963</td>\n",
       "      <td>5228.1</td>\n",
       "      <td>0</td>\n",
       "    </tr>\n",
       "    <tr>\n",
       "      <th>1</th>\n",
       "      <td>53</td>\n",
       "      <td>technician</td>\n",
       "      <td>married</td>\n",
       "      <td>unknown</td>\n",
       "      <td>no</td>\n",
       "      <td>no</td>\n",
       "      <td>no</td>\n",
       "      <td>cellular</td>\n",
       "      <td>nov</td>\n",
       "      <td>fri</td>\n",
       "      <td>...</td>\n",
       "      <td>1</td>\n",
       "      <td>999</td>\n",
       "      <td>0</td>\n",
       "      <td>nonexistent</td>\n",
       "      <td>-0.1</td>\n",
       "      <td>93.200</td>\n",
       "      <td>-42.0</td>\n",
       "      <td>4.021</td>\n",
       "      <td>5195.8</td>\n",
       "      <td>0</td>\n",
       "    </tr>\n",
       "    <tr>\n",
       "      <th>2</th>\n",
       "      <td>28</td>\n",
       "      <td>management</td>\n",
       "      <td>single</td>\n",
       "      <td>university.degree</td>\n",
       "      <td>no</td>\n",
       "      <td>yes</td>\n",
       "      <td>no</td>\n",
       "      <td>cellular</td>\n",
       "      <td>jun</td>\n",
       "      <td>thu</td>\n",
       "      <td>...</td>\n",
       "      <td>3</td>\n",
       "      <td>6</td>\n",
       "      <td>2</td>\n",
       "      <td>success</td>\n",
       "      <td>-1.7</td>\n",
       "      <td>94.055</td>\n",
       "      <td>-39.8</td>\n",
       "      <td>0.729</td>\n",
       "      <td>4991.6</td>\n",
       "      <td>1</td>\n",
       "    </tr>\n",
       "    <tr>\n",
       "      <th>3</th>\n",
       "      <td>39</td>\n",
       "      <td>services</td>\n",
       "      <td>married</td>\n",
       "      <td>high.school</td>\n",
       "      <td>no</td>\n",
       "      <td>no</td>\n",
       "      <td>no</td>\n",
       "      <td>cellular</td>\n",
       "      <td>apr</td>\n",
       "      <td>fri</td>\n",
       "      <td>...</td>\n",
       "      <td>2</td>\n",
       "      <td>999</td>\n",
       "      <td>0</td>\n",
       "      <td>nonexistent</td>\n",
       "      <td>-1.8</td>\n",
       "      <td>93.075</td>\n",
       "      <td>-47.1</td>\n",
       "      <td>1.405</td>\n",
       "      <td>5099.1</td>\n",
       "      <td>0</td>\n",
       "    </tr>\n",
       "    <tr>\n",
       "      <th>4</th>\n",
       "      <td>55</td>\n",
       "      <td>retired</td>\n",
       "      <td>married</td>\n",
       "      <td>basic.4y</td>\n",
       "      <td>no</td>\n",
       "      <td>yes</td>\n",
       "      <td>no</td>\n",
       "      <td>cellular</td>\n",
       "      <td>aug</td>\n",
       "      <td>fri</td>\n",
       "      <td>...</td>\n",
       "      <td>1</td>\n",
       "      <td>3</td>\n",
       "      <td>1</td>\n",
       "      <td>success</td>\n",
       "      <td>-2.9</td>\n",
       "      <td>92.201</td>\n",
       "      <td>-31.4</td>\n",
       "      <td>0.869</td>\n",
       "      <td>5076.2</td>\n",
       "      <td>1</td>\n",
       "    </tr>\n",
       "    <tr>\n",
       "      <th>...</th>\n",
       "      <td>...</td>\n",
       "      <td>...</td>\n",
       "      <td>...</td>\n",
       "      <td>...</td>\n",
       "      <td>...</td>\n",
       "      <td>...</td>\n",
       "      <td>...</td>\n",
       "      <td>...</td>\n",
       "      <td>...</td>\n",
       "      <td>...</td>\n",
       "      <td>...</td>\n",
       "      <td>...</td>\n",
       "      <td>...</td>\n",
       "      <td>...</td>\n",
       "      <td>...</td>\n",
       "      <td>...</td>\n",
       "      <td>...</td>\n",
       "      <td>...</td>\n",
       "      <td>...</td>\n",
       "      <td>...</td>\n",
       "      <td>...</td>\n",
       "    </tr>\n",
       "    <tr>\n",
       "      <th>41183</th>\n",
       "      <td>59</td>\n",
       "      <td>retired</td>\n",
       "      <td>married</td>\n",
       "      <td>high.school</td>\n",
       "      <td>unknown</td>\n",
       "      <td>no</td>\n",
       "      <td>yes</td>\n",
       "      <td>telephone</td>\n",
       "      <td>jun</td>\n",
       "      <td>thu</td>\n",
       "      <td>...</td>\n",
       "      <td>1</td>\n",
       "      <td>999</td>\n",
       "      <td>0</td>\n",
       "      <td>nonexistent</td>\n",
       "      <td>1.4</td>\n",
       "      <td>94.465</td>\n",
       "      <td>-41.8</td>\n",
       "      <td>4.866</td>\n",
       "      <td>5228.1</td>\n",
       "      <td>0</td>\n",
       "    </tr>\n",
       "    <tr>\n",
       "      <th>41184</th>\n",
       "      <td>31</td>\n",
       "      <td>housemaid</td>\n",
       "      <td>married</td>\n",
       "      <td>basic.4y</td>\n",
       "      <td>unknown</td>\n",
       "      <td>no</td>\n",
       "      <td>no</td>\n",
       "      <td>telephone</td>\n",
       "      <td>may</td>\n",
       "      <td>thu</td>\n",
       "      <td>...</td>\n",
       "      <td>2</td>\n",
       "      <td>999</td>\n",
       "      <td>0</td>\n",
       "      <td>nonexistent</td>\n",
       "      <td>1.1</td>\n",
       "      <td>93.994</td>\n",
       "      <td>-36.4</td>\n",
       "      <td>4.860</td>\n",
       "      <td>5191.0</td>\n",
       "      <td>0</td>\n",
       "    </tr>\n",
       "    <tr>\n",
       "      <th>41185</th>\n",
       "      <td>42</td>\n",
       "      <td>admin.</td>\n",
       "      <td>single</td>\n",
       "      <td>university.degree</td>\n",
       "      <td>unknown</td>\n",
       "      <td>yes</td>\n",
       "      <td>yes</td>\n",
       "      <td>telephone</td>\n",
       "      <td>may</td>\n",
       "      <td>wed</td>\n",
       "      <td>...</td>\n",
       "      <td>3</td>\n",
       "      <td>999</td>\n",
       "      <td>0</td>\n",
       "      <td>nonexistent</td>\n",
       "      <td>1.1</td>\n",
       "      <td>93.994</td>\n",
       "      <td>-36.4</td>\n",
       "      <td>4.857</td>\n",
       "      <td>5191.0</td>\n",
       "      <td>0</td>\n",
       "    </tr>\n",
       "    <tr>\n",
       "      <th>41186</th>\n",
       "      <td>48</td>\n",
       "      <td>technician</td>\n",
       "      <td>married</td>\n",
       "      <td>professional.course</td>\n",
       "      <td>no</td>\n",
       "      <td>no</td>\n",
       "      <td>yes</td>\n",
       "      <td>telephone</td>\n",
       "      <td>oct</td>\n",
       "      <td>tue</td>\n",
       "      <td>...</td>\n",
       "      <td>2</td>\n",
       "      <td>999</td>\n",
       "      <td>0</td>\n",
       "      <td>nonexistent</td>\n",
       "      <td>-3.4</td>\n",
       "      <td>92.431</td>\n",
       "      <td>-26.9</td>\n",
       "      <td>0.742</td>\n",
       "      <td>5017.5</td>\n",
       "      <td>0</td>\n",
       "    </tr>\n",
       "    <tr>\n",
       "      <th>41187</th>\n",
       "      <td>25</td>\n",
       "      <td>student</td>\n",
       "      <td>single</td>\n",
       "      <td>high.school</td>\n",
       "      <td>no</td>\n",
       "      <td>no</td>\n",
       "      <td>no</td>\n",
       "      <td>telephone</td>\n",
       "      <td>may</td>\n",
       "      <td>fri</td>\n",
       "      <td>...</td>\n",
       "      <td>4</td>\n",
       "      <td>999</td>\n",
       "      <td>0</td>\n",
       "      <td>nonexistent</td>\n",
       "      <td>1.1</td>\n",
       "      <td>93.994</td>\n",
       "      <td>-36.4</td>\n",
       "      <td>4.859</td>\n",
       "      <td>5191.0</td>\n",
       "      <td>0</td>\n",
       "    </tr>\n",
       "  </tbody>\n",
       "</table>\n",
       "<p>41188 rows × 21 columns</p>\n",
       "</div>"
      ],
      "text/plain": [
       "       age          job  marital            education  default housing loan  \\\n",
       "0       44  blue-collar  married             basic.4y  unknown     yes   no   \n",
       "1       53   technician  married              unknown       no      no   no   \n",
       "2       28   management   single    university.degree       no     yes   no   \n",
       "3       39     services  married          high.school       no      no   no   \n",
       "4       55      retired  married             basic.4y       no     yes   no   \n",
       "...    ...          ...      ...                  ...      ...     ...  ...   \n",
       "41183   59      retired  married          high.school  unknown      no  yes   \n",
       "41184   31    housemaid  married             basic.4y  unknown      no   no   \n",
       "41185   42       admin.   single    university.degree  unknown     yes  yes   \n",
       "41186   48   technician  married  professional.course       no      no  yes   \n",
       "41187   25      student   single          high.school       no      no   no   \n",
       "\n",
       "         contact month day_of_week  ...  campaign  pdays  previous  \\\n",
       "0       cellular   aug         thu  ...         1    999         0   \n",
       "1       cellular   nov         fri  ...         1    999         0   \n",
       "2       cellular   jun         thu  ...         3      6         2   \n",
       "3       cellular   apr         fri  ...         2    999         0   \n",
       "4       cellular   aug         fri  ...         1      3         1   \n",
       "...          ...   ...         ...  ...       ...    ...       ...   \n",
       "41183  telephone   jun         thu  ...         1    999         0   \n",
       "41184  telephone   may         thu  ...         2    999         0   \n",
       "41185  telephone   may         wed  ...         3    999         0   \n",
       "41186  telephone   oct         tue  ...         2    999         0   \n",
       "41187  telephone   may         fri  ...         4    999         0   \n",
       "\n",
       "          poutcome emp_var_rate  cons_price_idx  cons_conf_idx  euribor3m  \\\n",
       "0      nonexistent          1.4          93.444          -36.1      4.963   \n",
       "1      nonexistent         -0.1          93.200          -42.0      4.021   \n",
       "2          success         -1.7          94.055          -39.8      0.729   \n",
       "3      nonexistent         -1.8          93.075          -47.1      1.405   \n",
       "4          success         -2.9          92.201          -31.4      0.869   \n",
       "...            ...          ...             ...            ...        ...   \n",
       "41183  nonexistent          1.4          94.465          -41.8      4.866   \n",
       "41184  nonexistent          1.1          93.994          -36.4      4.860   \n",
       "41185  nonexistent          1.1          93.994          -36.4      4.857   \n",
       "41186  nonexistent         -3.4          92.431          -26.9      0.742   \n",
       "41187  nonexistent          1.1          93.994          -36.4      4.859   \n",
       "\n",
       "       nr_employed  y  \n",
       "0           5228.1  0  \n",
       "1           5195.8  0  \n",
       "2           4991.6  1  \n",
       "3           5099.1  0  \n",
       "4           5076.2  1  \n",
       "...            ... ..  \n",
       "41183       5228.1  0  \n",
       "41184       5191.0  0  \n",
       "41185       5191.0  0  \n",
       "41186       5017.5  0  \n",
       "41187       5191.0  0  \n",
       "\n",
       "[41188 rows x 21 columns]"
      ]
     },
     "execution_count": 99,
     "metadata": {},
     "output_type": "execute_result"
    }
   ],
   "source": [
    "data"
   ]
  },
  {
   "cell_type": "code",
   "execution_count": 85,
   "id": "1e3cba5d-c484-4f57-932b-2a75d187382c",
   "metadata": {},
   "outputs": [
    {
     "name": "stdout",
     "output_type": "stream",
     "text": [
      "0    36548\n",
      "1     4640\n",
      "Name: y, dtype: int64\n"
     ]
    },
    {
     "data": {
      "image/png": "[encoded data removed]",
      "text/plain": [
       "<Figure size 432x288 with 1 Axes>"
      ]
     },
     "metadata": {
      "needs_background": "light"
     },
     "output_type": "display_data"
    }
   ],
   "source": [
    "print(data['y'].value_counts())\n",
    "\n",
    "sns.countplot(x='y', data=data)\n",
    "plt.show();"
   ]
  },
  {
   "cell_type": "code",
   "execution_count": 161,
   "id": "dec38b3e-a907-4523-84a5-9621df4d91bc",
   "metadata": {},
   "outputs": [
    {
     "name": "stdout",
     "output_type": "stream",
     "text": [
      "Процент не подписавшихся:  88.73458288821988\n",
      "Процент подписок:  11.265417111780131\n"
     ]
    }
   ],
   "source": [
    "count_no_sub = len(data[data['y']==0])\n",
    "count_sub = len(data[data['y']==1])\n",
    "pct_of_no_sub = count_no_sub/(count_no_sub+count_sub)\n",
    "print(\"Процент не подписавшихся: \", pct_of_no_sub*100)\n",
    "pct_of_sub = count_sub/(count_no_sub+count_sub)\n",
    "print(\"Процент подписок: \", pct_of_sub*100)"
   ]
  },
  {
   "cell_type": "code",
   "execution_count": 87,
   "id": "e34641a2-ba9e-4d6a-9ddf-9a3d35596fa1",
   "metadata": {},
   "outputs": [
    {
     "data": {
      "text/html": [
       "<div>\n",
       "<style scoped>\n",
       "    .dataframe tbody tr th:only-of-type {\n",
       "        vertical-align: middle;\n",
       "    }\n",
       "\n",
       "    .dataframe tbody tr th {\n",
       "        vertical-align: top;\n",
       "    }\n",
       "\n",
       "    .dataframe thead th {\n",
       "        text-align: right;\n",
       "    }\n",
       "</style>\n",
       "<table border=\"1\" class=\"dataframe\">\n",
       "  <thead>\n",
       "    <tr style=\"text-align: right;\">\n",
       "      <th></th>\n",
       "      <th>age</th>\n",
       "      <th>duration</th>\n",
       "      <th>campaign</th>\n",
       "      <th>pdays</th>\n",
       "      <th>previous</th>\n",
       "      <th>emp_var_rate</th>\n",
       "      <th>cons_price_idx</th>\n",
       "      <th>cons_conf_idx</th>\n",
       "      <th>euribor3m</th>\n",
       "      <th>nr_employed</th>\n",
       "    </tr>\n",
       "    <tr>\n",
       "      <th>y</th>\n",
       "      <th></th>\n",
       "      <th></th>\n",
       "      <th></th>\n",
       "      <th></th>\n",
       "      <th></th>\n",
       "      <th></th>\n",
       "      <th></th>\n",
       "      <th></th>\n",
       "      <th></th>\n",
       "      <th></th>\n",
       "    </tr>\n",
       "  </thead>\n",
       "  <tbody>\n",
       "    <tr>\n",
       "      <th>0</th>\n",
       "      <td>39.911185</td>\n",
       "      <td>220.844807</td>\n",
       "      <td>2.633085</td>\n",
       "      <td>984.113878</td>\n",
       "      <td>0.132374</td>\n",
       "      <td>0.248875</td>\n",
       "      <td>93.603757</td>\n",
       "      <td>-40.593097</td>\n",
       "      <td>3.811491</td>\n",
       "      <td>5176.166600</td>\n",
       "    </tr>\n",
       "    <tr>\n",
       "      <th>1</th>\n",
       "      <td>40.913147</td>\n",
       "      <td>553.191164</td>\n",
       "      <td>2.051724</td>\n",
       "      <td>792.035560</td>\n",
       "      <td>0.492672</td>\n",
       "      <td>-1.233448</td>\n",
       "      <td>93.354386</td>\n",
       "      <td>-39.789784</td>\n",
       "      <td>2.123135</td>\n",
       "      <td>5095.115991</td>\n",
       "    </tr>\n",
       "  </tbody>\n",
       "</table>\n",
       "</div>"
      ],
      "text/plain": [
       "         age    duration  campaign       pdays  previous  emp_var_rate  \\\n",
       "y                                                                        \n",
       "0  39.911185  220.844807  2.633085  984.113878  0.132374      0.248875   \n",
       "1  40.913147  553.191164  2.051724  792.035560  0.492672     -1.233448   \n",
       "\n",
       "   cons_price_idx  cons_conf_idx  euribor3m  nr_employed  \n",
       "y                                                         \n",
       "0       93.603757     -40.593097   3.811491  5176.166600  \n",
       "1       93.354386     -39.789784   2.123135  5095.115991  "
      ]
     },
     "execution_count": 102,
     "metadata": {},
     "output_type": "execute_result"
    }
   ],
   "source": [
    "data.groupby('y').mean()"
   ]
  },
  {
   "cell_type": "code",
   "execution_count": 88,
   "id": "e9d86e87-d1bf-47c6-a999-510cb9b53224",
   "metadata": {},
   "outputs": [
    {
     "data": {
      "image/png": "[encoded data removed]",
      "text/plain": [
       "<Figure size 432x288 with 1 Axes>"
      ]
     },
     "metadata": {
      "needs_background": "light"
     },
     "output_type": "display_data"
    }
   ],
   "source": [
    "%matplotlib inline\n",
    "pd.crosstab(data.job,data.y).plot(kind='bar')\n",
    "plt.title('Частота покупки в зависимости от должности')\n",
    "plt.xlabel('Должность')\n",
    "plt.ylabel('Частота покупки');"
   ]
  },
  {
   "cell_type": "code",
   "execution_count": 89,
   "id": "4d95a367-fc82-434e-ad35-92384e5a7425",
   "metadata": {},
   "outputs": [
    {
     "data": {
      "image/png": "[encoded data removed]",
      "text/plain": [
       "<Figure size 432x288 with 1 Axes>"
      ]
     },
     "metadata": {
      "needs_background": "light"
     },
     "output_type": "display_data"
    }
   ],
   "source": [
    "table = pd.crosstab(data.education,data.y)\n",
    "table.div(table.sum(1).astype(float), axis=0).plot(kind='bar', stacked=True)\n",
    "plt.title('Частота покупки в зависимости от образования')\n",
    "plt.xlabel('Уровень образования')\n",
    "plt.ylabel('Доля клиентов');"
   ]
  },
  {
   "cell_type": "code",
   "execution_count": 90,
   "id": "5016e865-75fd-4355-b16a-8cc885a24eae",
   "metadata": {},
   "outputs": [],
   "source": [
    "data['education'] = np.where(data['education'] == 'basic.9y', 'Basic', data['education'])\n",
    "data['education'] = np.where(data['education'] == 'basic.6y', 'Basic', data['education'])\n",
    "data['education'] = np.where(data['education'] == 'basic.4y', 'Basic', data['education'])"
   ]
  },
  {
   "cell_type": "code",
   "execution_count": 91,
   "id": "b38f7799-f289-4ee2-8895-69b39f3975f5",
   "metadata": {},
   "outputs": [
    {
     "data": {
      "image/png": "[encoded data removed]",
      "text/plain": [
       "<Figure size 432x288 with 1 Axes>"
      ]
     },
     "metadata": {
      "needs_background": "light"
     },
     "output_type": "display_data"
    }
   ],
   "source": [
    "pd.crosstab(data.month,data.y).plot(kind='bar')\n",
    "plt.title('Частота покупки в зависимости от образования')\n",
    "plt.xlabel('Месяц')\n",
    "plt.ylabel('Частота покупки');"
   ]
  },
  {
   "cell_type": "code",
   "execution_count": 92,
   "id": "4877d997-81fe-4af8-bd1c-c68fd30b1a62",
   "metadata": {},
   "outputs": [
    {
     "data": {
      "image/png": "[encoded data removed]",
      "text/plain": [
       "<Figure size 432x288 with 1 Axes>"
      ]
     },
     "metadata": {
      "needs_background": "light"
     },
     "output_type": "display_data"
    }
   ],
   "source": [
    "data.age.hist()\n",
    "plt.title('График покупки в зависимости от возраста')\n",
    "plt.xlabel('Возраст')\n",
    "plt.ylabel('Частота покупки');"
   ]
  },
  {
   "cell_type": "code",
   "execution_count": 93,
   "id": "88e1506f-92cf-4c3a-805d-70df25633f29",
   "metadata": {},
   "outputs": [
    {
     "data": {
      "image/png": "[encoded data removed]",
      "text/plain": [
       "<Figure size 432x288 with 1 Axes>"
      ]
     },
     "metadata": {
      "needs_background": "light"
     },
     "output_type": "display_data"
    }
   ],
   "source": [
    "pd.crosstab(data.poutcome,data.y).plot(kind='bar')\n",
    "plt.title('Частота покупки в зависимости от итога прошлой маркетинговой компании')\n",
    "plt.xlabel('Итог')\n",
    "plt.ylabel('Частота покупки');"
   ]
  },
  {
   "cell_type": "code",
   "execution_count": 94,
   "id": "90271750-472e-48e6-bdb0-810dfe9ec855",
   "metadata": {},
   "outputs": [],
   "source": [
    "cat_vars = ['job','education','month','poutcome']\n",
    "for var in cat_vars:\n",
    "    cat_list = 'var' + '_' + var\n",
    "    cat_list = pd.get_dummies(data[var], prefix=var)\n",
    "    data1 = data.join(cat_list)\n",
    "    data = data1\n",
    "    \n",
    "cat_vars = ['job','education','month','poutcome']\n",
    "data_vars = data.columns.values.tolist()\n",
    "to_keep = [i for i in data_vars if i not in cat_vars]"
   ]
  },
  {
   "cell_type": "code",
   "execution_count": 95,
   "id": "add132c3-81dd-4e69-82a2-6438516a3bf6",
   "metadata": {},
   "outputs": [
    {
     "data": {
      "text/plain": [
       "array(['age', 'marital', 'default', 'housing', 'loan', 'contact',\n",
       "       'day_of_week', 'duration', 'campaign', 'pdays', 'previous',\n",
       "       'emp_var_rate', 'cons_price_idx', 'cons_conf_idx', 'euribor3m',\n",
       "       'nr_employed', 'y', 'job_admin.', 'job_blue-collar',\n",
       "       'job_entrepreneur', 'job_housemaid', 'job_management',\n",
       "       'job_retired', 'job_self-employed', 'job_services', 'job_student',\n",
       "       'job_technician', 'job_unemployed', 'job_unknown',\n",
       "       'education_Basic', 'education_high.school', 'education_illiterate',\n",
       "       'education_professional.course', 'education_university.degree',\n",
       "       'education_unknown', 'month_apr', 'month_aug', 'month_dec',\n",
       "       'month_jul', 'month_jun', 'month_mar', 'month_may', 'month_nov',\n",
       "       'month_oct', 'month_sep', 'poutcome_failure',\n",
       "       'poutcome_nonexistent', 'poutcome_success'], dtype=object)"
      ]
     },
     "execution_count": 110,
     "metadata": {},
     "output_type": "execute_result"
    }
   ],
   "source": [
    "data_final = data[to_keep]\n",
    "data_final.columns.values"
   ]
  },
  {
   "cell_type": "code",
   "execution_count": 113,
   "id": "799990ca-b7ef-46d2-aac6-e8644820a9bb",
   "metadata": {},
   "outputs": [
    {
     "name": "stderr",
     "output_type": "stream",
     "text": [
      "C:\\Users\\user\\AppData\\Local\\Temp\\ipykernel_16080\\3063763335.py:3: SettingWithCopyWarning: \n",
      "A value is trying to be set on a copy of a slice from a DataFrame.\n",
      "Try using .loc[row_indexer,col_indexer] = value instead\n",
      "\n",
      "See the caveats in the documentation: https://pandas.pydata.org/pandas-docs/stable/user_guide/indexing.html#returning-a-view-versus-a-copy\n",
      "  data_final[cols] = pd.factorize(data_final[cols])[0]\n"
     ]
    }
   ],
   "source": [
    "for cols in data_final: \n",
    "    if type(data_final[cols][0]) is str: \n",
    "        data_final[cols] = pd.factorize(data_final[cols])[0]"
   ]
  },
  {
   "cell_type": "code",
   "execution_count": 163,
   "id": "f3d152d6-d0ae-4718-8ffe-3c3237d92c44",
   "metadata": {},
   "outputs": [
    {
     "name": "stdout",
     "output_type": "stream",
     "text": [
      "Мощность данных после дублирования   51134\n",
      "Количество неподписавшихся в новых данных  25567\n",
      "Количество подписок  25567\n",
      "Соотношение неподписавшихся к общему  0.5\n",
      "Соотношение подписавшихся к общему  0.5\n"
     ]
    }
   ],
   "source": [
    "X = data_final.loc[:, data_final.columns != 'y']\n",
    "y = data_final.loc[:, data_final.columns == 'y']\n",
    "os = SMOTE(random_state=0)\n",
    "X_train, X_test, y_train, y_test = train_test_split(X, y, test_size=0.3, random_state=0)\n",
    "columns = X_train.columns\n",
    "os_data_X,os_data_y = os.fit_resample(X_train, y_train)\n",
    "os_data_X = pd.DataFrame(data=os_data_X,columns=columns )\n",
    "os_data_y = pd.DataFrame(data=os_data_y,columns=['y'])\n",
    "\n",
    "print(\"Мощность данных после дублирования  \",len(os_data_X))\n",
    "print(\"Количество неподписавшихся в новых данных \",len(os_data_y[os_data_y['y']==0]))\n",
    "print(\"Количество подписок \",len(os_data_y[os_data_y['y']==1]))\n",
    "print(\"Соотношение неподписавшихся к общему \",len(os_data_y[os_data_y['y']==0])/len(os_data_X))\n",
    "print(\"Соотношение подписавшихся к общему \",len(os_data_y[os_data_y['y']==1])/len(os_data_X))"
   ]
  },
  {
   "cell_type": "code",
   "execution_count": 117,
   "id": "1a2abf85-a246-4d24-ae8f-616478462232",
   "metadata": {},
   "outputs": [
    {
     "name": "stderr",
     "output_type": "stream",
     "text": [
      "D:\\anaconda3\\lib\\site-packages\\sklearn\\linear_model\\_logistic.py:814: ConvergenceWarning: lbfgs failed to converge (status=1):\n",
      "STOP: TOTAL NO. of ITERATIONS REACHED LIMIT.\n",
      "\n",
      "Increase the number of iterations (max_iter) or scale the data as shown in:\n",
      "    https://scikit-learn.org/stable/modules/preprocessing.html\n",
      "Please also refer to the documentation for alternative solver options:\n",
      "    https://scikit-learn.org/stable/modules/linear_model.html#logistic-regression\n",
      "  n_iter_i = _check_optimize_result(\n",
      "D:\\anaconda3\\lib\\site-packages\\sklearn\\linear_model\\_logistic.py:814: ConvergenceWarning: lbfgs failed to converge (status=1):\n",
      "STOP: TOTAL NO. of ITERATIONS REACHED LIMIT.\n",
      "\n",
      "Increase the number of iterations (max_iter) or scale the data as shown in:\n",
      "    https://scikit-learn.org/stable/modules/preprocessing.html\n",
      "Please also refer to the documentation for alternative solver options:\n",
      "    https://scikit-learn.org/stable/modules/linear_model.html#logistic-regression\n",
      "  n_iter_i = _check_optimize_result(\n"
     ]
    },
    {
     "name": "stdout",
     "output_type": "stream",
     "text": [
      "[False  True False  True  True  True False False False False  True  True\n",
      " False False False False  True  True  True False  True False  True  True\n",
      " False  True False False  True  True False  True  True  True  True  True\n",
      " False False False False  True  True False False  True False False]\n",
      "[3 1 3 1 1 1 2 3 2 3 1 1 2 3 2 3 1 1 1 3 1 3 1 1 3 1 3 3 1 1 3 1 1 1 1 1 3\n",
      " 3 3 3 1 1 3 3 1 3 3]\n"
     ]
    }
   ],
   "source": [
    "data_final_vars=data_final.columns.values.tolist()\n",
    "y=['y']\n",
    "X=[i for i in data_final_vars if i not in y]\n",
    "\n",
    "from sklearn.feature_selection import RFE\n",
    "from sklearn.linear_model import LogisticRegression\n",
    "\n",
    "logreg = LogisticRegression()\n",
    "rfe = RFE(logreg, step = 20)\n",
    "rfe = rfe.fit(os_data_X, os_data_y.values.ravel())\n",
    "print(rfe.support_)\n",
    "print(rfe.ranking_)"
   ]
  },
  {
   "cell_type": "code",
   "execution_count": 128,
   "id": "2c8fac4b-ead9-44b0-bc83-638931e18a3d",
   "metadata": {},
   "outputs": [],
   "source": [
    "column_list = []\n",
    "for i in range(len(rfe.support_)):\n",
    "    if rfe.support_[i] == True:\n",
    "        column_list.append(X[i])"
   ]
  },
  {
   "cell_type": "code",
   "execution_count": 129,
   "id": "0986926d-f82c-469c-9cbf-33723e54f232",
   "metadata": {},
   "outputs": [
    {
     "data": {
      "text/plain": [
       "['marital',\n",
       " 'housing',\n",
       " 'loan',\n",
       " 'contact',\n",
       " 'previous',\n",
       " 'emp_var_rate',\n",
       " 'job_admin.',\n",
       " 'job_blue-collar',\n",
       " 'job_entrepreneur',\n",
       " 'job_management',\n",
       " 'job_self-employed',\n",
       " 'job_services',\n",
       " 'job_technician',\n",
       " 'education_Basic',\n",
       " 'education_high.school',\n",
       " 'education_professional.course',\n",
       " 'education_university.degree',\n",
       " 'education_unknown',\n",
       " 'month_apr',\n",
       " 'month_aug',\n",
       " 'month_may',\n",
       " 'month_nov',\n",
       " 'poutcome_failure']"
      ]
     },
     "execution_count": 129,
     "metadata": {},
     "output_type": "execute_result"
    }
   ],
   "source": [
    "column_list"
   ]
  },
  {
   "cell_type": "code",
   "execution_count": 130,
   "id": "b4bf4bfe-7b19-4f05-b737-1a5e578b4c83",
   "metadata": {},
   "outputs": [],
   "source": [
    "X=os_data_X[column_list]\n",
    "y=os_data_y['y']"
   ]
  },
  {
   "cell_type": "code",
   "execution_count": 131,
   "id": "bcf17ecc-48b6-4c25-8263-8c4123874dcd",
   "metadata": {},
   "outputs": [
    {
     "name": "stdout",
     "output_type": "stream",
     "text": [
      "Optimization terminated successfully.\n",
      "         Current function value: 0.442278\n",
      "         Iterations 7\n",
      "                                Results: Logit\n",
      "==============================================================================\n",
      "Model:                   Logit                Pseudo R-squared:     0.362     \n",
      "Dependent Variable:      y                    AIC:                  45276.9162\n",
      "Date:                    2023-02-26 22:55     BIC:                  45480.2869\n",
      "No. Observations:        51134                Log-Likelihood:       -22615.   \n",
      "Df Model:                22                   LL-Null:              -35443.   \n",
      "Df Residuals:            51111                LLR p-value:          0.0000    \n",
      "Converged:               1.0000               Scale:                1.0000    \n",
      "No. Iterations:          7.0000                                               \n",
      "------------------------------------------------------------------------------\n",
      "                               Coef.  Std.Err.    z     P>|z|   [0.025  0.975]\n",
      "------------------------------------------------------------------------------\n",
      "marital                        0.3231   0.0186  17.3523 0.0000  0.2866  0.3596\n",
      "housing                        0.3411   0.0244  13.9735 0.0000  0.2932  0.3889\n",
      "loan                          -0.3331   0.0347  -9.5877 0.0000 -0.4011 -0.2650\n",
      "contact                        0.2647   0.0347   7.6349 0.0000  0.1967  0.3326\n",
      "previous                       1.2750   0.0375  33.9973 0.0000  1.2015  1.3485\n",
      "emp_var_rate                  -0.5867   0.0081 -72.7676 0.0000 -0.6025 -0.5709\n",
      "job_admin.                    -0.8441   0.0362 -23.3178 0.0000 -0.9150 -0.7731\n",
      "job_blue-collar               -1.0137   0.0464 -21.8534 0.0000 -1.1047 -0.9228\n",
      "job_entrepreneur              -1.9750   0.1201 -16.4511 0.0000 -2.2103 -1.7397\n",
      "job_management                -1.6748   0.0729 -22.9737 0.0000 -1.8177 -1.5319\n",
      "job_self-employed             -1.8352   0.1063 -17.2593 0.0000 -2.0436 -1.6268\n",
      "job_services                  -1.4420   0.0657 -21.9465 0.0000 -1.5708 -1.3133\n",
      "job_technician                -1.0918   0.0499 -21.9014 0.0000 -1.1895 -0.9941\n",
      "education_Basic               -0.8589   0.0403 -21.3302 0.0000 -0.9378 -0.7800\n",
      "education_high.school         -0.8056   0.0409 -19.6771 0.0000 -0.8859 -0.7254\n",
      "education_professional.course -1.0415   0.0579 -18.0027 0.0000 -1.1548 -0.9281\n",
      "education_university.degree   -0.4324   0.0368 -11.7607 0.0000 -0.5044 -0.3603\n",
      "education_unknown             -1.4165   0.0891 -15.8907 0.0000 -1.5912 -1.2418\n",
      "month_apr                     -0.0593   0.0470  -1.2627 0.2067 -0.1514  0.0328\n",
      "month_aug                      0.1672   0.0439   3.8076 0.0001  0.0811  0.2532\n",
      "month_may                     -0.3635   0.0317 -11.4500 0.0000 -0.4257 -0.3013\n",
      "month_nov                     -0.3403   0.0503  -6.7679 0.0000 -0.4388 -0.2417\n",
      "poutcome_failure              -2.2308   0.0606 -36.8124 0.0000 -2.3496 -2.1121\n",
      "==============================================================================\n",
      "\n"
     ]
    }
   ],
   "source": [
    "import statsmodels.api as sm\n",
    "\n",
    "logit_model=sm.Logit(y,X)\n",
    "result=logit_model.fit()\n",
    "print(result.summary2())"
   ]
  },
  {
   "cell_type": "code",
   "execution_count": 133,
   "id": "bc5b0c78-e487-4989-8ba5-fa5bd1207805",
   "metadata": {},
   "outputs": [],
   "source": [
    "column_list = ['marital',\n",
    " 'housing',\n",
    " 'loan',\n",
    " 'contact',\n",
    " 'previous',\n",
    " 'emp_var_rate',\n",
    " 'job_admin.',\n",
    " 'job_blue-collar',\n",
    " 'job_entrepreneur',\n",
    " 'job_management',\n",
    " 'job_self-employed',\n",
    " 'job_services',\n",
    " 'job_technician',\n",
    " 'education_Basic',\n",
    " 'education_high.school',\n",
    " 'education_professional.course',\n",
    " 'education_university.degree',\n",
    " 'education_unknown',\n",
    " 'month_aug',\n",
    " 'month_may',\n",
    " 'month_nov',\n",
    " 'poutcome_failure']"
   ]
  },
  {
   "cell_type": "code",
   "execution_count": 134,
   "id": "4e0f934f-69fa-4c9b-83b6-1b5f1e977c03",
   "metadata": {},
   "outputs": [
    {
     "name": "stdout",
     "output_type": "stream",
     "text": [
      "Optimization terminated successfully.\n",
      "         Current function value: 0.442294\n",
      "         Iterations 7\n",
      "                                Results: Logit\n",
      "==============================================================================\n",
      "Model:                   Logit                Pseudo R-squared:     0.362     \n",
      "Dependent Variable:      y                    AIC:                  45276.5094\n",
      "Date:                    2023-02-26 22:57     BIC:                  45471.0379\n",
      "No. Observations:        51134                Log-Likelihood:       -22616.   \n",
      "Df Model:                21                   LL-Null:              -35443.   \n",
      "Df Residuals:            51112                LLR p-value:          0.0000    \n",
      "Converged:               1.0000               Scale:                1.0000    \n",
      "No. Iterations:          7.0000                                               \n",
      "------------------------------------------------------------------------------\n",
      "                               Coef.  Std.Err.    z     P>|z|   [0.025  0.975]\n",
      "------------------------------------------------------------------------------\n",
      "marital                        0.3223   0.0186  17.3171 0.0000  0.2858  0.3588\n",
      "housing                        0.3405   0.0244  13.9520 0.0000  0.2926  0.3883\n",
      "loan                          -0.3335   0.0347  -9.6015 0.0000 -0.4016 -0.2654\n",
      "contact                        0.2648   0.0347   7.6363 0.0000  0.1969  0.3328\n",
      "previous                       1.2782   0.0374  34.1523 0.0000  1.2048  1.3515\n",
      "emp_var_rate                  -0.5846   0.0079 -74.0797 0.0000 -0.6001 -0.5692\n",
      "job_admin.                    -0.8462   0.0362 -23.4072 0.0000 -0.9170 -0.7753\n",
      "job_blue-collar               -1.0174   0.0463 -21.9733 0.0000 -1.1081 -0.9266\n",
      "job_entrepreneur              -1.9810   0.1200 -16.5077 0.0000 -2.2162 -1.7458\n",
      "job_management                -1.6784   0.0728 -23.0454 0.0000 -1.8211 -1.5357\n",
      "job_self-employed             -1.8388   0.1063 -17.3033 0.0000 -2.0471 -1.6305\n",
      "job_services                  -1.4473   0.0656 -22.0674 0.0000 -1.5759 -1.3188\n",
      "job_technician                -1.0945   0.0498 -21.9795 0.0000 -1.1921 -0.9969\n",
      "education_Basic               -0.8650   0.0400 -21.6397 0.0000 -0.9434 -0.7867\n",
      "education_high.school         -0.8104   0.0408 -19.8837 0.0000 -0.8903 -0.7305\n",
      "education_professional.course -1.0469   0.0577 -18.1501 0.0000 -1.1600 -0.9339\n",
      "education_university.degree   -0.4375   0.0365 -11.9777 0.0000 -0.5091 -0.3659\n",
      "education_unknown             -1.4225   0.0890 -15.9835 0.0000 -1.5969 -1.2481\n",
      "month_aug                      0.1736   0.0436   3.9838 0.0001  0.0882  0.2591\n",
      "month_may                     -0.3546   0.0310 -11.4508 0.0000 -0.4153 -0.2939\n",
      "month_nov                     -0.3320   0.0499  -6.6592 0.0000 -0.4298 -0.2343\n",
      "poutcome_failure              -2.2351   0.0605 -36.9489 0.0000 -2.3536 -2.1165\n",
      "==============================================================================\n",
      "\n"
     ]
    }
   ],
   "source": [
    "X=os_data_X[column_list]\n",
    "y=os_data_y['y']\n",
    "\n",
    "logit_model=sm.Logit(y,X)\n",
    "result=logit_model.fit()\n",
    "print(result.summary2())"
   ]
  },
  {
   "cell_type": "code",
   "execution_count": 135,
   "id": "376d6ed7-ad01-4e2f-9a5d-765146d5bb66",
   "metadata": {},
   "outputs": [
    {
     "name": "stdout",
     "output_type": "stream",
     "text": [
      "LogisticRegression()\n"
     ]
    }
   ],
   "source": [
    "from sklearn.linear_model import LogisticRegression\n",
    "from sklearn import metrics\n",
    "\n",
    "X_train, X_test, y_train, y_test = train_test_split(X, y, test_size=0.3, random_state=0)\n",
    "logreg = LogisticRegression()"
   ]
  },
  {
   "cell_type": "code",
   "execution_count": 139,
   "id": "c676dbcf-d758-475c-b960-2173bba20262",
   "metadata": {},
   "outputs": [
    {
     "name": "stdout",
     "output_type": "stream",
     "text": [
      "Accuracy of logistic regression classifier on test set: 0.89\n"
     ]
    }
   ],
   "source": [
    "logreg.fit(X_train, y_train)\n",
    "y_pred = logreg.predict(X_test)\n",
    "print('Accuracy of logistic regression classifier on test set: {:.2f}'.format(logreg.score(X_test, y_test)))"
   ]
  },
  {
   "cell_type": "code",
   "execution_count": 145,
   "id": "e4095e26-af1e-4761-96d2-77202de0463a",
   "metadata": {},
   "outputs": [
    {
     "name": "stdout",
     "output_type": "stream",
     "text": [
      "[[7138  528]\n",
      " [1134 6541]]\n"
     ]
    }
   ],
   "source": [
    "from sklearn.metrics import confusion_matrix\n",
    "confusion_matrix = confusion_matrix(y_test, y_pred)\n",
    "print(confusion_matrix)"
   ]
  },
  {
   "cell_type": "code",
   "execution_count": 162,
   "id": "9676121e-1dcc-49f3-a6eb-45acdad68418",
   "metadata": {},
   "outputs": [
    {
     "name": "stdout",
     "output_type": "stream",
     "text": [
      "Error:  0.10833713577993612\n"
     ]
    }
   ],
   "source": [
    "print('Error: ', np.mean((y_pred - y_test) ** 2))"
   ]
  },
  {
   "cell_type": "code",
   "execution_count": null,
   "id": "a609cfad-300d-4f53-be5f-a415de70212c",
   "metadata": {},
   "outputs": [],
   "source": [
    "res = pd.DataFrame({'test':y_test, 'pred':y_pred})"
   ]
  },
  {
   "cell_type": "code",
   "execution_count": null,
   "id": "66a28ebf-10cb-4383-be2f-d18f324a0ab4",
   "metadata": {},
   "outputs": [],
   "source": [
    "res['result'] = res['test'] == res['pred']"
   ]
  },
  {
   "cell_type": "code",
   "execution_count": null,
   "id": "dab7399a-ca66-4df0-bcdb-0a4c4d6f523e",
   "metadata": {},
   "outputs": [],
   "source": [
    "res.loc[res.result == True, 'result'] = 'совпадают'\n",
    "res.loc[res.result == False, 'result'] = 'не совпадают'"
   ]
  },
  {
   "cell_type": "code",
   "execution_count": null,
   "id": "46cab6c5-df6e-4813-a6d9-098e4c31a822",
   "metadata": {},
   "outputs": [
    {
     "data": {
      "image/png": "[encoded data removed]",
      "text/plain": [
       "<Figure size 432x288 with 1 Axes>"
      ]
     },
     "metadata": {
      "needs_background": "light"
     },
     "output_type": "display_data"
    }
   ],
   "source": [
    "sns.countplot(x='result', data=res)\n",
    "plt.show();"
   ]
  },
  {
   "cell_type": "code",
   "execution_count": 140,
   "id": "b977a750-5480-4270-b769-8d97dccdbed4",
   "metadata": {},
   "outputs": [
    {
     "name": "stdout",
     "output_type": "stream",
     "text": [
      "              precision    recall  f1-score   support\n",
      "\n",
      "           0       0.86      0.93      0.90      7666\n",
      "           1       0.93      0.85      0.89      7675\n",
      "\n",
      "    accuracy                           0.89     15341\n",
      "   macro avg       0.89      0.89      0.89     15341\n",
      "weighted avg       0.89      0.89      0.89     15341\n",
      "\n"
     ]
    }
   ],
   "source": [
    "from sklearn.metrics import classification_report\n",
    "print(classification_report(y_test, y_pred))"
   ]
  },
  {
   "cell_type": "code",
   "execution_count": 142,
   "id": "08400729-df6b-4c8e-9d4d-b2cfe6949472",
   "metadata": {},
   "outputs": [
    {
     "data": {
      "image/png": "[encoded data removed]",
      "text/plain": [
       "<Figure size 432x288 with 1 Axes>"
      ]
     },
     "metadata": {
      "needs_background": "light"
     },
     "output_type": "display_data"
    }
   ],
   "source": [
    "from sklearn.metrics import roc_auc_score\n",
    "from sklearn.metrics import roc_curve\n",
    "logit_roc_auc = roc_auc_score(y_test, logreg.predict(X_test))\n",
    "fpr, tpr, thresholds = roc_curve(y_test, logreg.predict_proba(X_test)[:,1])\n",
    "plt.figure()\n",
    "plt.plot(fpr, tpr, label='Logistic Regression (area = %0.2f)' % logit_roc_auc)\n",
    "plt.plot([0, 1], [0, 1],'r--')\n",
    "plt.xlim([0.0, 1.0])\n",
    "plt.ylim([0.0, 1.05])\n",
    "plt.xlabel('False Positive Rate')\n",
    "plt.ylabel('True Positive Rate')\n",
    "plt.title('Receiver operating characteristic')\n",
    "plt.legend(loc=\"lower right\")\n",
    "plt.show()"
   ]
  }
 ],
 "metadata": {
  "kernelspec": {
   "display_name": "Python 3 (ipykernel)",
   "language": "python",
   "name": "python3"
  },
  "language_info": {
   "codemirror_mode": {
    "name": "ipython",
    "version": 3
   },
   "file_extension": ".py",
   "mimetype": "text/x-python",
   "name": "python",
   "nbconvert_exporter": "python",
   "pygments_lexer": "ipython3",
   "version": "3.9.12"
  }
 },
 "nbformat": 4,
 "nbformat_minor": 5
}
