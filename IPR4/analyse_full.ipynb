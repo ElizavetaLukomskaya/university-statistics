{
 "cells": [
  {
   "cell_type": "code",
   "execution_count": 335,
   "id": "c3f07efe-3b02-4da7-a6c1-76d0f76073fb",
   "metadata": {},
   "outputs": [],
   "source": [
    "import pandas as pd\n",
    "import random\n",
    "import seaborn as sns\n",
    "import matplotlib.pyplot as plt\n",
    "from sklearn.linear_model import LinearRegression, LogisticRegression\n",
    "from sklearn.model_selection import train_test_split"
   ]
  },
  {
   "cell_type": "code",
   "execution_count": 336,
   "id": "f903112e-98b5-4178-9489-e4fb62b78641",
   "metadata": {},
   "outputs": [],
   "source": [
    "data = pd.read_csv('sleepdata_2.csv', sep=';')"
   ]
  },
  {
   "cell_type": "code",
   "execution_count": 337,
   "id": "83440db0-afcf-43a0-876f-7d36573d89f6",
   "metadata": {},
   "outputs": [
    {
     "name": "stdout",
     "output_type": "stream",
     "text": [
      "<class 'pandas.core.frame.DataFrame'>\n",
      "RangeIndex: 921 entries, 0 to 920\n",
      "Data columns (total 21 columns):\n",
      " #   Column                       Non-Null Count  Dtype  \n",
      "---  ------                       --------------  -----  \n",
      " 0   Start                        921 non-null    object \n",
      " 1   End                          921 non-null    object \n",
      " 2   Sleep Quality                921 non-null    object \n",
      " 3   Regularity                   921 non-null    object \n",
      " 4   Mood                         0 non-null      float64\n",
      " 5   Heart rate (bpm)             921 non-null    int64  \n",
      " 6   Steps                        921 non-null    int64  \n",
      " 7   Alarm mode                   921 non-null    object \n",
      " 8   Air Pressure (Pa)            492 non-null    float64\n",
      " 9   City                         487 non-null    object \n",
      " 10  Movements per hour           921 non-null    float64\n",
      " 11  Time in bed (seconds)        921 non-null    float64\n",
      " 12  Time asleep (seconds)        921 non-null    float64\n",
      " 13  Time before sleep (seconds)  921 non-null    float64\n",
      " 14  Window start                 841 non-null    object \n",
      " 15  Window stop                  841 non-null    object \n",
      " 16  Did snore                    921 non-null    bool   \n",
      " 17  Snore time                   921 non-null    float64\n",
      " 18  Weather temperature (°C)     921 non-null    float64\n",
      " 19  Weather type                 921 non-null    object \n",
      " 20  Notes                        9 non-null      object \n",
      "dtypes: bool(1), float64(8), int64(2), object(10)\n",
      "memory usage: 144.9+ KB\n"
     ]
    }
   ],
   "source": [
    "data.info()"
   ]
  },
  {
   "cell_type": "code",
   "execution_count": 338,
   "id": "be680157-9b1b-48f3-ace4-bd914f908cdd",
   "metadata": {},
   "outputs": [
    {
     "data": {
      "text/html": [
       "<div>\n",
       "<style scoped>\n",
       "    .dataframe tbody tr th:only-of-type {\n",
       "        vertical-align: middle;\n",
       "    }\n",
       "\n",
       "    .dataframe tbody tr th {\n",
       "        vertical-align: top;\n",
       "    }\n",
       "\n",
       "    .dataframe thead th {\n",
       "        text-align: right;\n",
       "    }\n",
       "</style>\n",
       "<table border=\"1\" class=\"dataframe\">\n",
       "  <thead>\n",
       "    <tr style=\"text-align: right;\">\n",
       "      <th></th>\n",
       "      <th>Mood</th>\n",
       "      <th>Heart rate (bpm)</th>\n",
       "      <th>Steps</th>\n",
       "      <th>Air Pressure (Pa)</th>\n",
       "      <th>Movements per hour</th>\n",
       "      <th>Time in bed (seconds)</th>\n",
       "      <th>Time asleep (seconds)</th>\n",
       "      <th>Time before sleep (seconds)</th>\n",
       "      <th>Snore time</th>\n",
       "      <th>Weather temperature (°C)</th>\n",
       "    </tr>\n",
       "  </thead>\n",
       "  <tbody>\n",
       "    <tr>\n",
       "      <th>count</th>\n",
       "      <td>0.0</td>\n",
       "      <td>921.0</td>\n",
       "      <td>921.000000</td>\n",
       "      <td>492.000000</td>\n",
       "      <td>921.000000</td>\n",
       "      <td>921.000000</td>\n",
       "      <td>921.000000</td>\n",
       "      <td>921.000000</td>\n",
       "      <td>921.000000</td>\n",
       "      <td>921.000000</td>\n",
       "    </tr>\n",
       "    <tr>\n",
       "      <th>mean</th>\n",
       "      <td>NaN</td>\n",
       "      <td>0.0</td>\n",
       "      <td>5311.599349</td>\n",
       "      <td>68.660163</td>\n",
       "      <td>174.277416</td>\n",
       "      <td>27505.497611</td>\n",
       "      <td>23912.683170</td>\n",
       "      <td>1001.556135</td>\n",
       "      <td>312.944300</td>\n",
       "      <td>2.142562</td>\n",
       "    </tr>\n",
       "    <tr>\n",
       "      <th>std</th>\n",
       "      <td>NaN</td>\n",
       "      <td>0.0</td>\n",
       "      <td>4396.822762</td>\n",
       "      <td>41.845368</td>\n",
       "      <td>822.776299</td>\n",
       "      <td>3916.696288</td>\n",
       "      <td>4066.189356</td>\n",
       "      <td>1046.287777</td>\n",
       "      <td>455.472848</td>\n",
       "      <td>6.324558</td>\n",
       "    </tr>\n",
       "    <tr>\n",
       "      <th>min</th>\n",
       "      <td>NaN</td>\n",
       "      <td>0.0</td>\n",
       "      <td>0.000000</td>\n",
       "      <td>0.000000</td>\n",
       "      <td>0.000000</td>\n",
       "      <td>1852.800000</td>\n",
       "      <td>0.000000</td>\n",
       "      <td>0.000000</td>\n",
       "      <td>0.000000</td>\n",
       "      <td>-19.000000</td>\n",
       "    </tr>\n",
       "    <tr>\n",
       "      <th>25%</th>\n",
       "      <td>NaN</td>\n",
       "      <td>0.0</td>\n",
       "      <td>2299.000000</td>\n",
       "      <td>0.000000</td>\n",
       "      <td>37.000000</td>\n",
       "      <td>25500.600000</td>\n",
       "      <td>21627.500000</td>\n",
       "      <td>449.900000</td>\n",
       "      <td>0.000000</td>\n",
       "      <td>0.000000</td>\n",
       "    </tr>\n",
       "    <tr>\n",
       "      <th>50%</th>\n",
       "      <td>NaN</td>\n",
       "      <td>0.0</td>\n",
       "      <td>4245.000000</td>\n",
       "      <td>93.700000</td>\n",
       "      <td>49.600000</td>\n",
       "      <td>27422.900000</td>\n",
       "      <td>23919.000000</td>\n",
       "      <td>563.700000</td>\n",
       "      <td>148.000000</td>\n",
       "      <td>0.000000</td>\n",
       "    </tr>\n",
       "    <tr>\n",
       "      <th>75%</th>\n",
       "      <td>NaN</td>\n",
       "      <td>0.0</td>\n",
       "      <td>7452.000000</td>\n",
       "      <td>94.400000</td>\n",
       "      <td>65.200000</td>\n",
       "      <td>29530.100000</td>\n",
       "      <td>26257.000000</td>\n",
       "      <td>1287.000000</td>\n",
       "      <td>440.000000</td>\n",
       "      <td>3.100000</td>\n",
       "    </tr>\n",
       "    <tr>\n",
       "      <th>max</th>\n",
       "      <td>NaN</td>\n",
       "      <td>0.0</td>\n",
       "      <td>38165.000000</td>\n",
       "      <td>96.500000</td>\n",
       "      <td>17926.700000</td>\n",
       "      <td>46703.400000</td>\n",
       "      <td>45769.400000</td>\n",
       "      <td>5677.700000</td>\n",
       "      <td>4477.300000</td>\n",
       "      <td>24.500000</td>\n",
       "    </tr>\n",
       "  </tbody>\n",
       "</table>\n",
       "</div>"
      ],
      "text/plain": [
       "       Mood  Heart rate (bpm)         Steps  Air Pressure (Pa)  \\\n",
       "count   0.0             921.0    921.000000         492.000000   \n",
       "mean    NaN               0.0   5311.599349          68.660163   \n",
       "std     NaN               0.0   4396.822762          41.845368   \n",
       "min     NaN               0.0      0.000000           0.000000   \n",
       "25%     NaN               0.0   2299.000000           0.000000   \n",
       "50%     NaN               0.0   4245.000000          93.700000   \n",
       "75%     NaN               0.0   7452.000000          94.400000   \n",
       "max     NaN               0.0  38165.000000          96.500000   \n",
       "\n",
       "       Movements per hour  Time in bed (seconds)  Time asleep (seconds)  \\\n",
       "count          921.000000             921.000000             921.000000   \n",
       "mean           174.277416           27505.497611           23912.683170   \n",
       "std            822.776299            3916.696288            4066.189356   \n",
       "min              0.000000            1852.800000               0.000000   \n",
       "25%             37.000000           25500.600000           21627.500000   \n",
       "50%             49.600000           27422.900000           23919.000000   \n",
       "75%             65.200000           29530.100000           26257.000000   \n",
       "max          17926.700000           46703.400000           45769.400000   \n",
       "\n",
       "       Time before sleep (seconds)   Snore time  Weather temperature (°C)  \n",
       "count                   921.000000   921.000000                921.000000  \n",
       "mean                   1001.556135   312.944300                  2.142562  \n",
       "std                    1046.287777   455.472848                  6.324558  \n",
       "min                       0.000000     0.000000                -19.000000  \n",
       "25%                     449.900000     0.000000                  0.000000  \n",
       "50%                     563.700000   148.000000                  0.000000  \n",
       "75%                    1287.000000   440.000000                  3.100000  \n",
       "max                    5677.700000  4477.300000                 24.500000  "
      ]
     },
     "execution_count": 338,
     "metadata": {},
     "output_type": "execute_result"
    }
   ],
   "source": [
    "data.describe()"
   ]
  },
  {
   "cell_type": "code",
   "execution_count": 339,
   "id": "646e4bb5-918b-4ee4-9bfd-c1a3cf8e9d8c",
   "metadata": {},
   "outputs": [],
   "source": [
    "data = data.drop(['Mood', 'Heart rate (bpm)', 'City', 'Notes', 'Weather type'], axis=1)"
   ]
  },
  {
   "cell_type": "code",
   "execution_count": 340,
   "id": "64d8c93b-9ee9-4fcc-8ad4-60d7eed0ce56",
   "metadata": {},
   "outputs": [],
   "source": [
    "data['Start'] = pd.to_datetime(data['Start'])\n",
    "data['End'] = pd.to_datetime(data['End'])\n",
    "data['Window start'] = pd.to_datetime(data['Window start'])\n",
    "data['Window stop'] = pd.to_datetime(data['Window stop'])\n",
    "\n",
    "data['Sleep Quality'] = data['Sleep Quality'].str.replace('%', '').astype(int)\n",
    "data['Regularity'] = data['Regularity'].str.replace('%', '').astype(int)\n",
    "\n",
    "data.loc[data['Alarm mode'] == 'Normal', 'Alarm mode'] = 1\n",
    "data.loc[data['Alarm mode'] == 'No alarm', 'Alarm mode'] = 0\n",
    "\n",
    "data['Time in bed (seconds)'] = data['Time in bed (seconds)'] / 3600\n",
    "data['Time asleep (seconds)'] = data['Time asleep (seconds)'] / 3600 \n",
    "data['Time before sleep (seconds)'] = data['Time before sleep (seconds)'] / 60 \n",
    "\n",
    "data.loc[data['Snore time'] == 0, 'Did snore'] = False\n",
    "data['Did snore'] = data['Did snore'].astype(int)\n",
    "data['Snore time'] = data['Snore time'] / 60\n",
    "\n",
    "pressure = data.loc[(data['Air Pressure (Pa)'] != 0) & (data['Air Pressure (Pa)'].notna())]['Air Pressure (Pa)'].mean()\n",
    "data.loc[data['Air Pressure (Pa)'].isna(), 'Air Pressure (Pa)'] = pressure\n",
    "data.loc[data['Air Pressure (Pa)'] == 0, 'Air Pressure (Pa)'] = pressure\n",
    "\n",
    "data = data.rename(columns={'Regularity':'Regularity(%)', 'Sleep Quality':'Sleep Quality(%)',\n",
    "                           'Time in bed (seconds)':'Time in bed (hours)', 'Time asleep (seconds)':'Time asleep (hours)',\n",
    "                            'Time before sleep (seconds)':'Time before sleep (minutes)', 'Snore time':'Snore time(minutes)'})"
   ]
  },
  {
   "cell_type": "code",
   "execution_count": 341,
   "id": "91e42896-12e9-42de-8245-8b84ddb62909",
   "metadata": {},
   "outputs": [
    {
     "data": {
      "text/plain": [
       "2019-07-03 05:20:00    1\n",
       "2019-07-07 07:00:00    1\n",
       "2019-07-09 05:30:00    1\n",
       "2021-05-09 06:30:00    1\n",
       "2021-05-10 05:00:00    1\n",
       "Name: Window start, dtype: int64"
      ]
     },
     "execution_count": 341,
     "metadata": {},
     "output_type": "execute_result"
    }
   ],
   "source": [
    "data[data['Window stop'] != data['Window start']]['Window start'].value_counts()"
   ]
  },
  {
   "cell_type": "code",
   "execution_count": 342,
   "id": "9c573f12-74f5-4bf2-8edd-8a8dda59591e",
   "metadata": {},
   "outputs": [],
   "source": [
    "data = data.drop(['Window start', 'Window stop'], axis=1)"
   ]
  },
  {
   "cell_type": "code",
   "execution_count": 343,
   "id": "21772518-bc2c-4c7a-885a-8c8116ec6423",
   "metadata": {},
   "outputs": [
    {
     "data": {
      "text/html": [
       "<div>\n",
       "<style scoped>\n",
       "    .dataframe tbody tr th:only-of-type {\n",
       "        vertical-align: middle;\n",
       "    }\n",
       "\n",
       "    .dataframe tbody tr th {\n",
       "        vertical-align: top;\n",
       "    }\n",
       "\n",
       "    .dataframe thead th {\n",
       "        text-align: right;\n",
       "    }\n",
       "</style>\n",
       "<table border=\"1\" class=\"dataframe\">\n",
       "  <thead>\n",
       "    <tr style=\"text-align: right;\">\n",
       "      <th></th>\n",
       "      <th>Start</th>\n",
       "      <th>End</th>\n",
       "      <th>Sleep Quality(%)</th>\n",
       "      <th>Regularity(%)</th>\n",
       "      <th>Steps</th>\n",
       "      <th>Alarm mode</th>\n",
       "      <th>Air Pressure (Pa)</th>\n",
       "      <th>Movements per hour</th>\n",
       "      <th>Time in bed (hours)</th>\n",
       "      <th>Time asleep (hours)</th>\n",
       "      <th>Time before sleep (minutes)</th>\n",
       "      <th>Did snore</th>\n",
       "      <th>Snore time(minutes)</th>\n",
       "      <th>Weather temperature (°C)</th>\n",
       "    </tr>\n",
       "  </thead>\n",
       "  <tbody>\n",
       "    <tr>\n",
       "      <th>0</th>\n",
       "      <td>2019-05-12 23:26:13</td>\n",
       "      <td>2019-05-13 06:11:03</td>\n",
       "      <td>60</td>\n",
       "      <td>0</td>\n",
       "      <td>8350</td>\n",
       "      <td>1</td>\n",
       "      <td>94.096936</td>\n",
       "      <td>35.0</td>\n",
       "      <td>6.747000</td>\n",
       "      <td>6.387167</td>\n",
       "      <td>2.698333</td>\n",
       "      <td>1</td>\n",
       "      <td>1.533333</td>\n",
       "      <td>0.0</td>\n",
       "    </tr>\n",
       "    <tr>\n",
       "      <th>1</th>\n",
       "      <td>2019-05-13 22:10:31</td>\n",
       "      <td>2019-05-14 06:10:42</td>\n",
       "      <td>73</td>\n",
       "      <td>0</td>\n",
       "      <td>4746</td>\n",
       "      <td>1</td>\n",
       "      <td>94.096936</td>\n",
       "      <td>78.6</td>\n",
       "      <td>8.002833</td>\n",
       "      <td>6.989139</td>\n",
       "      <td>3.201667</td>\n",
       "      <td>0</td>\n",
       "      <td>0.000000</td>\n",
       "      <td>0.0</td>\n",
       "    </tr>\n",
       "    <tr>\n",
       "      <th>2</th>\n",
       "      <td>2019-05-14 21:43:00</td>\n",
       "      <td>2019-05-15 06:10:41</td>\n",
       "      <td>86</td>\n",
       "      <td>96</td>\n",
       "      <td>4007</td>\n",
       "      <td>1</td>\n",
       "      <td>94.096936</td>\n",
       "      <td>60.5</td>\n",
       "      <td>8.461528</td>\n",
       "      <td>7.897444</td>\n",
       "      <td>3.385000</td>\n",
       "      <td>1</td>\n",
       "      <td>1.233333</td>\n",
       "      <td>0.0</td>\n",
       "    </tr>\n",
       "    <tr>\n",
       "      <th>3</th>\n",
       "      <td>2019-05-15 23:11:51</td>\n",
       "      <td>2019-05-16 06:13:59</td>\n",
       "      <td>77</td>\n",
       "      <td>92</td>\n",
       "      <td>6578</td>\n",
       "      <td>1</td>\n",
       "      <td>94.096936</td>\n",
       "      <td>45.2</td>\n",
       "      <td>7.035444</td>\n",
       "      <td>6.425694</td>\n",
       "      <td>2.815000</td>\n",
       "      <td>0</td>\n",
       "      <td>0.000000</td>\n",
       "      <td>0.0</td>\n",
       "    </tr>\n",
       "    <tr>\n",
       "      <th>4</th>\n",
       "      <td>2019-05-16 23:12:13</td>\n",
       "      <td>2019-05-17 06:20:32</td>\n",
       "      <td>78</td>\n",
       "      <td>94</td>\n",
       "      <td>4913</td>\n",
       "      <td>1</td>\n",
       "      <td>94.096936</td>\n",
       "      <td>44.6</td>\n",
       "      <td>7.138444</td>\n",
       "      <td>6.281833</td>\n",
       "      <td>2.855000</td>\n",
       "      <td>1</td>\n",
       "      <td>3.133333</td>\n",
       "      <td>0.0</td>\n",
       "    </tr>\n",
       "    <tr>\n",
       "      <th>...</th>\n",
       "      <td>...</td>\n",
       "      <td>...</td>\n",
       "      <td>...</td>\n",
       "      <td>...</td>\n",
       "      <td>...</td>\n",
       "      <td>...</td>\n",
       "      <td>...</td>\n",
       "      <td>...</td>\n",
       "      <td>...</td>\n",
       "      <td>...</td>\n",
       "      <td>...</td>\n",
       "      <td>...</td>\n",
       "      <td>...</td>\n",
       "      <td>...</td>\n",
       "    </tr>\n",
       "    <tr>\n",
       "      <th>916</th>\n",
       "      <td>2022-03-24 21:33:46</td>\n",
       "      <td>2022-03-25 04:21:40</td>\n",
       "      <td>71</td>\n",
       "      <td>77</td>\n",
       "      <td>3903</td>\n",
       "      <td>1</td>\n",
       "      <td>95.200000</td>\n",
       "      <td>39.7</td>\n",
       "      <td>6.798361</td>\n",
       "      <td>5.778611</td>\n",
       "      <td>8.158333</td>\n",
       "      <td>1</td>\n",
       "      <td>11.595000</td>\n",
       "      <td>4.0</td>\n",
       "    </tr>\n",
       "    <tr>\n",
       "      <th>917</th>\n",
       "      <td>2022-03-25 16:48:05</td>\n",
       "      <td>2022-03-25 17:30:22</td>\n",
       "      <td>9</td>\n",
       "      <td>14</td>\n",
       "      <td>495</td>\n",
       "      <td>1</td>\n",
       "      <td>83.800000</td>\n",
       "      <td>0.0</td>\n",
       "      <td>0.704500</td>\n",
       "      <td>0.000000</td>\n",
       "      <td>0.000000</td>\n",
       "      <td>0</td>\n",
       "      <td>0.000000</td>\n",
       "      <td>5.0</td>\n",
       "    </tr>\n",
       "    <tr>\n",
       "      <th>918</th>\n",
       "      <td>2022-03-26 21:14:23</td>\n",
       "      <td>2022-03-27 06:11:01</td>\n",
       "      <td>49</td>\n",
       "      <td>-1</td>\n",
       "      <td>13388</td>\n",
       "      <td>1</td>\n",
       "      <td>83.500000</td>\n",
       "      <td>82.7</td>\n",
       "      <td>8.943917</td>\n",
       "      <td>6.827194</td>\n",
       "      <td>60.818333</td>\n",
       "      <td>1</td>\n",
       "      <td>8.440000</td>\n",
       "      <td>-1.1</td>\n",
       "    </tr>\n",
       "    <tr>\n",
       "      <th>919</th>\n",
       "      <td>2022-03-28 22:53:23</td>\n",
       "      <td>2022-03-29 04:50:36</td>\n",
       "      <td>77</td>\n",
       "      <td>22</td>\n",
       "      <td>456</td>\n",
       "      <td>1</td>\n",
       "      <td>93.900000</td>\n",
       "      <td>17.3</td>\n",
       "      <td>5.953778</td>\n",
       "      <td>4.405778</td>\n",
       "      <td>7.145000</td>\n",
       "      <td>1</td>\n",
       "      <td>1.000000</td>\n",
       "      <td>6.1</td>\n",
       "    </tr>\n",
       "    <tr>\n",
       "      <th>920</th>\n",
       "      <td>2022-03-29 22:44:09</td>\n",
       "      <td>2022-03-30 05:11:15</td>\n",
       "      <td>68</td>\n",
       "      <td>85</td>\n",
       "      <td>5156</td>\n",
       "      <td>1</td>\n",
       "      <td>94.400000</td>\n",
       "      <td>38.2</td>\n",
       "      <td>6.451639</td>\n",
       "      <td>5.225833</td>\n",
       "      <td>7.741667</td>\n",
       "      <td>1</td>\n",
       "      <td>12.000000</td>\n",
       "      <td>10.5</td>\n",
       "    </tr>\n",
       "  </tbody>\n",
       "</table>\n",
       "<p>921 rows × 14 columns</p>\n",
       "</div>"
      ],
      "text/plain": [
       "                  Start                 End  Sleep Quality(%)  Regularity(%)  \\\n",
       "0   2019-05-12 23:26:13 2019-05-13 06:11:03                60              0   \n",
       "1   2019-05-13 22:10:31 2019-05-14 06:10:42                73              0   \n",
       "2   2019-05-14 21:43:00 2019-05-15 06:10:41                86             96   \n",
       "3   2019-05-15 23:11:51 2019-05-16 06:13:59                77             92   \n",
       "4   2019-05-16 23:12:13 2019-05-17 06:20:32                78             94   \n",
       "..                  ...                 ...               ...            ...   \n",
       "916 2022-03-24 21:33:46 2022-03-25 04:21:40                71             77   \n",
       "917 2022-03-25 16:48:05 2022-03-25 17:30:22                 9             14   \n",
       "918 2022-03-26 21:14:23 2022-03-27 06:11:01                49             -1   \n",
       "919 2022-03-28 22:53:23 2022-03-29 04:50:36                77             22   \n",
       "920 2022-03-29 22:44:09 2022-03-30 05:11:15                68             85   \n",
       "\n",
       "     Steps Alarm mode  Air Pressure (Pa)  Movements per hour  \\\n",
       "0     8350          1          94.096936                35.0   \n",
       "1     4746          1          94.096936                78.6   \n",
       "2     4007          1          94.096936                60.5   \n",
       "3     6578          1          94.096936                45.2   \n",
       "4     4913          1          94.096936                44.6   \n",
       "..     ...        ...                ...                 ...   \n",
       "916   3903          1          95.200000                39.7   \n",
       "917    495          1          83.800000                 0.0   \n",
       "918  13388          1          83.500000                82.7   \n",
       "919    456          1          93.900000                17.3   \n",
       "920   5156          1          94.400000                38.2   \n",
       "\n",
       "     Time in bed (hours)  Time asleep (hours)  Time before sleep (minutes)  \\\n",
       "0               6.747000             6.387167                     2.698333   \n",
       "1               8.002833             6.989139                     3.201667   \n",
       "2               8.461528             7.897444                     3.385000   \n",
       "3               7.035444             6.425694                     2.815000   \n",
       "4               7.138444             6.281833                     2.855000   \n",
       "..                   ...                  ...                          ...   \n",
       "916             6.798361             5.778611                     8.158333   \n",
       "917             0.704500             0.000000                     0.000000   \n",
       "918             8.943917             6.827194                    60.818333   \n",
       "919             5.953778             4.405778                     7.145000   \n",
       "920             6.451639             5.225833                     7.741667   \n",
       "\n",
       "     Did snore  Snore time(minutes)  Weather temperature (°C)  \n",
       "0            1             1.533333                       0.0  \n",
       "1            0             0.000000                       0.0  \n",
       "2            1             1.233333                       0.0  \n",
       "3            0             0.000000                       0.0  \n",
       "4            1             3.133333                       0.0  \n",
       "..         ...                  ...                       ...  \n",
       "916          1            11.595000                       4.0  \n",
       "917          0             0.000000                       5.0  \n",
       "918          1             8.440000                      -1.1  \n",
       "919          1             1.000000                       6.1  \n",
       "920          1            12.000000                      10.5  \n",
       "\n",
       "[921 rows x 14 columns]"
      ]
     },
     "execution_count": 343,
     "metadata": {},
     "output_type": "execute_result"
    }
   ],
   "source": [
    "data"
   ]
  },
  {
   "cell_type": "markdown",
   "id": "10a72e40-5a86-4d47-a3bd-d822e7c73d5f",
   "metadata": {},
   "source": [
    "# Проверка аномалий по Граббсу"
   ]
  },
  {
   "cell_type": "code",
   "execution_count": 344,
   "id": "f6f6959c-49ed-45a7-a5e1-154296a0ffde",
   "metadata": {},
   "outputs": [
    {
     "name": "stdout",
     "output_type": "stream",
     "text": [
      "Sleep Quality(%):  913\n",
      "Regularity(%):  901\n",
      "Steps:  905\n",
      "Alarm mode:  921\n",
      "Air Pressure (Pa):  915\n",
      "Movements per hour:  877\n",
      "Time in bed (hours):  911\n",
      "Time asleep (hours):  912\n",
      "Time before sleep (minutes):  920\n",
      "Did snore:  921\n",
      "Snore time(minutes):  901\n",
      "Weather temperature (°C):  921\n"
     ]
    }
   ],
   "source": [
    "import numpy as np\n",
    "from outliers import smirnov_grubbs as grubbs\n",
    "\n",
    "for item in data.drop(['Start', 'End'], axis=1).columns:\n",
    "    print(f'{item}: ', len(grubbs.test(np.array(data[item]), alpha=.05)))"
   ]
  },
  {
   "cell_type": "markdown",
   "id": "f2b3730f-bee4-405e-9280-4822dcbb569e",
   "metadata": {},
   "source": [
    "# Проверка на мультиколлинеарность"
   ]
  },
  {
   "cell_type": "code",
   "execution_count": 345,
   "id": "63293c66-ee5e-4465-ad01-4e8e4930de76",
   "metadata": {},
   "outputs": [
    {
     "data": {
      "image/png": "[encoded data removed]",
      "text/plain": [
       "<Figure size 720x720 with 2 Axes>"
      ]
     },
     "metadata": {
      "needs_background": "light"
     },
     "output_type": "display_data"
    }
   ],
   "source": [
    "ax = plt.subplots(figsize=(10,10)) \n",
    "ax = sns.heatmap(round(abs(data.corr()), 2), annot=True)"
   ]
  },
  {
   "cell_type": "code",
   "execution_count": 346,
   "id": "d460c86f-f2a1-485d-b77c-53a338288da5",
   "metadata": {},
   "outputs": [],
   "source": [
    "data = data.drop(['Time in bed (hours)', 'Did snore', 'Weather temperature (°C)','Steps', 'Air Pressure (Pa)', 'Regularity(%)'], axis=1)"
   ]
  },
  {
   "cell_type": "code",
   "execution_count": 347,
   "id": "96f7e3d4-0464-44de-a607-f31c9a35f747",
   "metadata": {},
   "outputs": [
    {
     "data": {
      "image/png": "[encoded data removed]",
      "text/plain": [
       "<Figure size 360x360 with 2 Axes>"
      ]
     },
     "metadata": {
      "needs_background": "light"
     },
     "output_type": "display_data"
    }
   ],
   "source": [
    "ax = plt.subplots(figsize=(5,5)) \n",
    "ax = sns.heatmap(round(abs(data.corr()), 2), annot=True)"
   ]
  },
  {
   "cell_type": "code",
   "execution_count": 349,
   "id": "7d670b1a-8de2-419e-8367-bdcb251df8be",
   "metadata": {},
   "outputs": [],
   "source": [
    "data.drop(['Start', 'End'], axis=1).to_excel('sleep.xlsx', engine='xlsxwriter')"
   ]
  },
  {
   "cell_type": "markdown",
   "id": "5cd34eed-51e8-4375-be89-6323eb948fef",
   "metadata": {},
   "source": [
    "# Построение регрессии "
   ]
  },
  {
   "cell_type": "code",
   "execution_count": 247,
   "id": "d745939f-04e1-401d-8062-fe49983ac453",
   "metadata": {},
   "outputs": [],
   "source": [
    "import statsmodels.api as sm\n",
    "import numpy as np"
   ]
  },
  {
   "cell_type": "code",
   "execution_count": 248,
   "id": "88cd4bde-795a-4418-842e-6c28132ddf6f",
   "metadata": {},
   "outputs": [],
   "source": [
    "X_train, X_test, y_train, y_test = train_test_split(data.drop(['Sleep Quality(%)', 'Start', 'End'], axis=1), data['Sleep Quality(%)'], test_size=0.1, random_state=0)"
   ]
  },
  {
   "cell_type": "code",
   "execution_count": 249,
   "id": "267c34db-fde6-4044-9b90-b38aea7e82dd",
   "metadata": {},
   "outputs": [],
   "source": [
    "X_train = np.asarray(X_train, dtype=float).transpose()\n",
    "y_train = np.asarray(y_train, dtype=float)"
   ]
  },
  {
   "cell_type": "code",
   "execution_count": 250,
   "id": "87b7a3c1-ee59-4794-a0a7-9d2d43f0cf81",
   "metadata": {},
   "outputs": [
    {
     "name": "stdout",
     "output_type": "stream",
     "text": [
      "                            OLS Regression Results                            \n",
      "==============================================================================\n",
      "Dep. Variable:                      y   R-squared:                       0.521\n",
      "Model:                            OLS   Adj. R-squared:                  0.519\n",
      "Method:                 Least Squares   F-statistic:                     298.3\n",
      "Date:                Thu, 01 Jun 2023   Prob (F-statistic):          4.41e-131\n",
      "Time:                        18:59:25   Log-Likelihood:                -2968.6\n",
      "No. Observations:                 828   AIC:                             5945.\n",
      "Df Residuals:                     824   BIC:                             5964.\n",
      "Df Model:                           3                                         \n",
      "Covariance Type:            nonrobust                                         \n",
      "==============================================================================\n",
      "                 coef    std err          t      P>|t|      [0.025      0.975]\n",
      "------------------------------------------------------------------------------\n",
      "x1             0.1290      0.017      7.421      0.000       0.095       0.163\n",
      "x2             8.1797      0.283     28.926      0.000       7.625       8.735\n",
      "x3             2.4087      1.115      2.160      0.031       0.220       4.598\n",
      "const         19.4044      2.456      7.899      0.000      14.583      24.226\n",
      "==============================================================================\n",
      "Omnibus:                      131.972   Durbin-Watson:                   2.040\n",
      "Prob(Omnibus):                  0.000   Jarque-Bera (JB):              226.333\n",
      "Skew:                          -0.993   Prob(JB):                     7.12e-50\n",
      "Kurtosis:                       4.618   Cond. No.                         212.\n",
      "==============================================================================\n",
      "\n",
      "Notes:\n",
      "[1] Standard Errors assume that the covariance matrix of the errors is correctly specified.\n"
     ]
    }
   ],
   "source": [
    "def reg_m(y, x):\n",
    "    ones = np.ones(len(x[0]))\n",
    "    X = sm.add_constant(np.column_stack((x[0], ones)))\n",
    "    for ele in x[1:]:\n",
    "        X = sm.add_constant(np.column_stack((ele, X)))\n",
    "    results = sm.OLS(y, X).fit()\n",
    "    return results\n",
    "\n",
    "print(reg_m(y_train, X_train).summary())"
   ]
  },
  {
   "cell_type": "code",
   "execution_count": 43,
   "id": "fe34c04a-98f7-4f9c-9dda-b309513b2f5f",
   "metadata": {},
   "outputs": [],
   "source": [
    "logreg = LogisticRegression()"
   ]
  },
  {
   "cell_type": "code",
   "execution_count": 252,
   "id": "7083fde8-d68c-48b2-a34c-78b599e2de54",
   "metadata": {},
   "outputs": [
    {
     "name": "stderr",
     "output_type": "stream",
     "text": [
      "D:\\anaconda3\\lib\\site-packages\\sklearn\\linear_model\\_logistic.py:814: ConvergenceWarning: lbfgs failed to converge (status=1):\n",
      "STOP: TOTAL NO. of ITERATIONS REACHED LIMIT.\n",
      "\n",
      "Increase the number of iterations (max_iter) or scale the data as shown in:\n",
      "    https://scikit-learn.org/stable/modules/preprocessing.html\n",
      "Please also refer to the documentation for alternative solver options:\n",
      "    https://scikit-learn.org/stable/modules/linear_model.html#logistic-regression\n",
      "  n_iter_i = _check_optimize_result(\n"
     ]
    }
   ],
   "source": [
    "X_train, X_test, y_train, y_test = train_test_split(data.drop(['Sleep Quality(%)', 'Start', 'End'], axis=1), data['Sleep Quality(%)'], test_size=0.2, random_state=0)\n",
    "\n",
    "logreg.fit(X_train, y_train)\n",
    "y_pred = logreg.predict(X_test)"
   ]
  },
  {
   "cell_type": "code",
   "execution_count": 255,
   "id": "1a14fd60-d2a9-4248-b69b-94dc3de68268",
   "metadata": {},
   "outputs": [],
   "source": [
    "from sklearn.metrics import mean_absolute_error"
   ]
  },
  {
   "cell_type": "code",
   "execution_count": 256,
   "id": "e4761c72-c0e9-4cc2-96ea-f041403718d7",
   "metadata": {},
   "outputs": [
    {
     "data": {
      "text/plain": [
       "'Average approximation error: 0.07 %'"
      ]
     },
     "execution_count": 256,
     "metadata": {},
     "output_type": "execute_result"
    }
   ],
   "source": [
    "(f'Average approximation error: {round(100*(mean_absolute_error(y_test, y_pred) / y_test.abs().sum()), 2)} %')"
   ]
  },
  {
   "cell_type": "markdown",
   "id": "d61fa0cc-9016-4f61-a11a-5efabd83e6cb",
   "metadata": {},
   "source": [
    "# Парная нелинейная регрессия"
   ]
  },
  {
   "cell_type": "code",
   "execution_count": 259,
   "id": "227d5a2a-4f9d-47bf-98d0-29e37696f8b4",
   "metadata": {},
   "outputs": [
    {
     "name": "stderr",
     "output_type": "stream",
     "text": [
      "D:\\anaconda3\\lib\\site-packages\\seaborn\\axisgrid.py:2076: UserWarning: The `size` parameter has been renamed to `height`; please update your code.\n",
      "  warnings.warn(msg, UserWarning)\n"
     ]
    },
    {
     "data": {
      "text/plain": [
       "<seaborn.axisgrid.PairGrid at 0x1cc26ca2d90>"
      ]
     },
     "execution_count": 259,
     "metadata": {},
     "output_type": "execute_result"
    },
    {
     "data": {
      "image/png": "[encoded data removed]",
      "text/plain": [
       "<Figure size 720x360 with 2 Axes>"
      ]
     },
     "metadata": {
      "needs_background": "light"
     },
     "output_type": "display_data"
    }
   ],
   "source": [
    "sns.pairplot(\n",
    "    data.drop(['Start', 'End'], axis=1),\n",
    "    y_vars='Sleep Quality(%)',\n",
    "    x_vars=['Time asleep (hours)', 'Time before sleep (minutes)'],\n",
    "    size=5,\n",
    "    kind='reg',\n",
    "    diag_kind=None\n",
    ")"
   ]
  },
  {
   "cell_type": "code",
   "execution_count": 299,
   "id": "aee70fed-7ad2-4765-b4bb-084473c63f03",
   "metadata": {},
   "outputs": [
    {
     "name": "stdout",
     "output_type": "stream",
     "text": [
      "[0.13859252 3.41509513]\n"
     ]
    }
   ],
   "source": [
    "import numpy as np\n",
    "\n",
    "fit = np.polyfit (data['Time asleep (hours)'], np.log (data['Sleep Quality(%)']), 1)\n",
    "print(fit)"
   ]
  },
  {
   "cell_type": "code",
   "execution_count": 300,
   "id": "17023fe0-7030-4b2b-ab71-3b3e1b43c457",
   "metadata": {
    "collapsed": true,
    "jupyter": {
     "outputs_hidden": true
    },
    "tags": []
   },
   "outputs": [
    {
     "name": "stderr",
     "output_type": "stream",
     "text": [
      "C:\\Users\\user\\AppData\\Local\\Temp\\ipykernel_11424\\758925769.py:2: SettingWithCopyWarning: \n",
      "A value is trying to be set on a copy of a slice from a DataFrame.\n",
      "Try using .loc[row_indexer,col_indexer] = value instead\n",
      "\n",
      "See the caveats in the documentation: https://pandas.pydata.org/pandas-docs/stable/user_guide/indexing.html#returning-a-view-versus-a-copy\n",
      "  new_df['Sleep Quality(%)'] = np.log(data['Sleep Quality(%)'])\n",
      "C:\\Users\\user\\AppData\\Local\\Temp\\ipykernel_11424\\758925769.py:3: SettingWithCopyWarning: \n",
      "A value is trying to be set on a copy of a slice from a DataFrame.\n",
      "Try using .loc[row_indexer,col_indexer] = value instead\n",
      "\n",
      "See the caveats in the documentation: https://pandas.pydata.org/pandas-docs/stable/user_guide/indexing.html#returning-a-view-versus-a-copy\n",
      "  new_df['predict'] = new_df['Time asleep (hours)']*0.13859252 + 3.41509513\n"
     ]
    }
   ],
   "source": [
    "new_df = data[['Time asleep (hours)','Sleep Quality(%)']]\n",
    "new_df['Sleep Quality(%)'] = np.log(data['Sleep Quality(%)'])\n",
    "new_df['predict'] = new_df['Time asleep (hours)']*0.13859252 + 3.41509513"
   ]
  },
  {
   "cell_type": "code",
   "execution_count": 301,
   "id": "8a08cb11-4b39-4c95-9b60-98dc061a0454",
   "metadata": {},
   "outputs": [],
   "source": [
    "y_test = new_df['Sleep Quality(%)']\n",
    "y_pred = new_df['predict']"
   ]
  },
  {
   "cell_type": "code",
   "execution_count": 302,
   "id": "b1fe8daa-6dd5-4dd3-a43a-8dc1efd1e962",
   "metadata": {},
   "outputs": [
    {
     "data": {
      "text/plain": [
       "'Average approximation error: 0.0027 %'"
      ]
     },
     "execution_count": 302,
     "metadata": {},
     "output_type": "execute_result"
    }
   ],
   "source": [
    "(f'Average approximation error: {round(100*(mean_absolute_error(y_test, y_pred) / y_test.abs().sum()), 4)} %')"
   ]
  },
  {
   "cell_type": "code",
   "execution_count": 303,
   "id": "3ac4831c-5724-49b1-991b-b8b291ddcfa4",
   "metadata": {
    "collapsed": true,
    "jupyter": {
     "outputs_hidden": true
    },
    "tags": []
   },
   "outputs": [
    {
     "name": "stderr",
     "output_type": "stream",
     "text": [
      "C:\\Users\\user\\AppData\\Local\\Temp\\ipykernel_11424\\2705646993.py:2: SettingWithCopyWarning: \n",
      "A value is trying to be set on a copy of a slice from a DataFrame.\n",
      "Try using .loc[row_indexer,col_indexer] = value instead\n",
      "\n",
      "See the caveats in the documentation: https://pandas.pydata.org/pandas-docs/stable/user_guide/indexing.html#returning-a-view-versus-a-copy\n",
      "  new_df['predict'] = np.exp(new_df['Time asleep (hours)']*0.13859252 + 3.41509513)\n"
     ]
    }
   ],
   "source": [
    "new_df = data[['Time asleep (hours)','Sleep Quality(%)']]\n",
    "new_df['predict'] = np.exp(new_df['Time asleep (hours)']*0.13859252 + 3.41509513)"
   ]
  },
  {
   "cell_type": "code",
   "execution_count": 304,
   "id": "d9e64235-bfe6-4746-9eb4-d807400734ab",
   "metadata": {},
   "outputs": [],
   "source": [
    "y_test = new_df['Sleep Quality(%)']\n",
    "y_pred = new_df['predict']"
   ]
  },
  {
   "cell_type": "code",
   "execution_count": 305,
   "id": "0bc28e2d-5878-45ac-9316-3ad053b4ede2",
   "metadata": {},
   "outputs": [
    {
     "data": {
      "text/plain": [
       "'Average approximation error: 0.011 %'"
      ]
     },
     "execution_count": 305,
     "metadata": {},
     "output_type": "execute_result"
    }
   ],
   "source": [
    "(f'Average approximation error: {round(100*(mean_absolute_error(y_test, y_pred) / y_test.abs().sum()), 4)} %')"
   ]
  },
  {
   "cell_type": "code",
   "execution_count": 306,
   "id": "11cf3779-6e05-4b7f-9763-349656e9918b",
   "metadata": {},
   "outputs": [
    {
     "name": "stderr",
     "output_type": "stream",
     "text": [
      "D:\\anaconda3\\lib\\site-packages\\seaborn\\axisgrid.py:2076: UserWarning: The `size` parameter has been renamed to `height`; please update your code.\n",
      "  warnings.warn(msg, UserWarning)\n"
     ]
    },
    {
     "data": {
      "text/plain": [
       "<seaborn.axisgrid.PairGrid at 0x1cc2648dd90>"
      ]
     },
     "execution_count": 306,
     "metadata": {},
     "output_type": "execute_result"
    },
    {
     "data": {
      "image/png": "[encoded data removed]",
      "text/plain": [
       "<Figure size 360x720 with 2 Axes>"
      ]
     },
     "metadata": {
      "needs_background": "light"
     },
     "output_type": "display_data"
    }
   ],
   "source": [
    "sns.pairplot(\n",
    "    new_df,\n",
    "    y_vars=['Sleep Quality(%)', 'predict'],\n",
    "    x_vars='Time asleep (hours)',\n",
    "    size=5,\n",
    "    kind='reg',\n",
    "    diag_kind=None\n",
    ")"
   ]
  },
  {
   "cell_type": "code",
   "execution_count": null,
   "id": "ee72d1d0-7d7e-47a8-9953-6e2d7def80c9",
   "metadata": {},
   "outputs": [],
   "source": []
  },
  {
   "cell_type": "code",
   "execution_count": null,
   "id": "4a652ccd-4975-46db-8ff3-93446bd346fb",
   "metadata": {},
   "outputs": [],
   "source": []
  },
  {
   "cell_type": "code",
   "execution_count": 307,
   "id": "2b58b142-e2e1-4745-ad60-55d244fe114c",
   "metadata": {},
   "outputs": [
    {
     "name": "stdout",
     "output_type": "stream",
     "text": [
      "[ 1.59912052e+42 -9.42399331e+42]\n"
     ]
    }
   ],
   "source": [
    "import numpy as np\n",
    "\n",
    "fit = np.polyfit (data['Time asleep (hours)'], np.exp(data['Sleep Quality(%)']), 1)\n",
    "print(fit)"
   ]
  },
  {
   "cell_type": "code",
   "execution_count": 308,
   "id": "11465bd2-09e8-4c22-934a-7fea75c2d891",
   "metadata": {
    "collapsed": true,
    "jupyter": {
     "outputs_hidden": true
    },
    "tags": []
   },
   "outputs": [
    {
     "name": "stderr",
     "output_type": "stream",
     "text": [
      "C:\\Users\\user\\AppData\\Local\\Temp\\ipykernel_11424\\1329622539.py:2: SettingWithCopyWarning: \n",
      "A value is trying to be set on a copy of a slice from a DataFrame.\n",
      "Try using .loc[row_indexer,col_indexer] = value instead\n",
      "\n",
      "See the caveats in the documentation: https://pandas.pydata.org/pandas-docs/stable/user_guide/indexing.html#returning-a-view-versus-a-copy\n",
      "  new_df['Sleep Quality(%)'] = np.exp(data['Sleep Quality(%)'])\n",
      "C:\\Users\\user\\AppData\\Local\\Temp\\ipykernel_11424\\1329622539.py:3: SettingWithCopyWarning: \n",
      "A value is trying to be set on a copy of a slice from a DataFrame.\n",
      "Try using .loc[row_indexer,col_indexer] = value instead\n",
      "\n",
      "See the caveats in the documentation: https://pandas.pydata.org/pandas-docs/stable/user_guide/indexing.html#returning-a-view-versus-a-copy\n",
      "  new_df['predict'] = new_df['Time asleep (hours)']*1.59912052e+42 - 9.42399331e+42\n"
     ]
    }
   ],
   "source": [
    "new_df = data[['Time asleep (hours)','Sleep Quality(%)']]\n",
    "new_df['Sleep Quality(%)'] = np.exp(data['Sleep Quality(%)'])\n",
    "new_df['predict'] = new_df['Time asleep (hours)']*1.59912052e+42 - 9.42399331e+42"
   ]
  },
  {
   "cell_type": "code",
   "execution_count": 309,
   "id": "2bec73d7-f9c7-4d42-a47e-098af87c9b43",
   "metadata": {},
   "outputs": [],
   "source": [
    "y_test = new_df['Sleep Quality(%)']\n",
    "y_pred = new_df['predict']"
   ]
  },
  {
   "cell_type": "code",
   "execution_count": 310,
   "id": "209d3d28-71c6-440f-b959-16f3f41d1634",
   "metadata": {},
   "outputs": [
    {
     "data": {
      "text/plain": [
       "'Average approximation error: 0.2185 %'"
      ]
     },
     "execution_count": 310,
     "metadata": {},
     "output_type": "execute_result"
    }
   ],
   "source": [
    "(f'Average approximation error: {round(100*(mean_absolute_error(y_test, y_pred) / y_test.abs().sum()), 4)} %')"
   ]
  },
  {
   "cell_type": "code",
   "execution_count": null,
   "id": "7d153603-d78f-415d-942a-553f35b97435",
   "metadata": {},
   "outputs": [],
   "source": []
  },
  {
   "cell_type": "code",
   "execution_count": 312,
   "id": "1550f37d-73cf-4cbe-8ee8-71855ede7227",
   "metadata": {},
   "outputs": [
    {
     "name": "stdout",
     "output_type": "stream",
     "text": [
      "[-0.00387596  0.03943409]\n"
     ]
    }
   ],
   "source": [
    "import numpy as np\n",
    "\n",
    "fit = np.polyfit (data['Time asleep (hours)'], 1/(data['Sleep Quality(%)']), 1)\n",
    "print(fit)"
   ]
  },
  {
   "cell_type": "code",
   "execution_count": 313,
   "id": "f19c1c51-2b79-4733-8d0f-f464000c8399",
   "metadata": {
    "collapsed": true,
    "jupyter": {
     "outputs_hidden": true
    },
    "tags": []
   },
   "outputs": [
    {
     "name": "stderr",
     "output_type": "stream",
     "text": [
      "C:\\Users\\user\\AppData\\Local\\Temp\\ipykernel_11424\\1620837498.py:2: SettingWithCopyWarning: \n",
      "A value is trying to be set on a copy of a slice from a DataFrame.\n",
      "Try using .loc[row_indexer,col_indexer] = value instead\n",
      "\n",
      "See the caveats in the documentation: https://pandas.pydata.org/pandas-docs/stable/user_guide/indexing.html#returning-a-view-versus-a-copy\n",
      "  new_df['Sleep Quality(%)'] = np.exp(data['Sleep Quality(%)'])\n",
      "C:\\Users\\user\\AppData\\Local\\Temp\\ipykernel_11424\\1620837498.py:3: SettingWithCopyWarning: \n",
      "A value is trying to be set on a copy of a slice from a DataFrame.\n",
      "Try using .loc[row_indexer,col_indexer] = value instead\n",
      "\n",
      "See the caveats in the documentation: https://pandas.pydata.org/pandas-docs/stable/user_guide/indexing.html#returning-a-view-versus-a-copy\n",
      "  new_df['predict'] = new_df['Time asleep (hours)']*(-0.00387596) + 0.03943409\n"
     ]
    }
   ],
   "source": [
    "new_df = data[['Time asleep (hours)','Sleep Quality(%)']]\n",
    "new_df['Sleep Quality(%)'] = np.exp(data['Sleep Quality(%)'])\n",
    "new_df['predict'] = new_df['Time asleep (hours)']*(-0.00387596) + 0.03943409"
   ]
  },
  {
   "cell_type": "code",
   "execution_count": 314,
   "id": "48fe8d8c-39c8-4d61-90d9-14adc30b079e",
   "metadata": {},
   "outputs": [],
   "source": [
    "y_test = new_df['Sleep Quality(%)']\n",
    "y_pred = new_df['predict']"
   ]
  },
  {
   "cell_type": "code",
   "execution_count": 315,
   "id": "18472aab-888b-44fd-b717-94909492d9ec",
   "metadata": {},
   "outputs": [
    {
     "data": {
      "text/plain": [
       "'Average approximation error: 0.1086 %'"
      ]
     },
     "execution_count": 315,
     "metadata": {},
     "output_type": "execute_result"
    }
   ],
   "source": [
    "(f'Average approximation error: {round(100*(mean_absolute_error(y_test, y_pred) / y_test.abs().sum()), 4)} %')"
   ]
  }
 ],
 "metadata": {
  "kernelspec": {
   "display_name": "Python 3 (ipykernel)",
   "language": "python",
   "name": "python3"
  },
  "language_info": {
   "codemirror_mode": {
    "name": "ipython",
    "version": 3
   },
   "file_extension": ".py",
   "mimetype": "text/x-python",
   "name": "python",
   "nbconvert_exporter": "python",
   "pygments_lexer": "ipython3",
   "version": "3.9.12"
  }
 },
 "nbformat": 4,
 "nbformat_minor": 5
}
